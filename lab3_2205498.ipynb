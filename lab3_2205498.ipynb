{
  "nbformat": 4,
  "nbformat_minor": 0,
  "metadata": {
    "colab": {
      "provenance": [],
      "authorship_tag": "ABX9TyNpoPK4D7khyvOBQEd1S692",
      "include_colab_link": true
    },
    "kernelspec": {
      "name": "python3",
      "display_name": "Python 3"
    },
    "language_info": {
      "name": "python"
    }
  },
  "cells": [
    {
      "cell_type": "markdown",
      "metadata": {
        "id": "view-in-github",
        "colab_type": "text"
      },
      "source": [
        "<a href=\"https://colab.research.google.com/github/samarthya04/AI_Lab/blob/main/lab3_2205498.ipynb\" target=\"_parent\"><img src=\"https://colab.research.google.com/assets/colab-badge.svg\" alt=\"Open In Colab\"/></a>"
      ]
    },
    {
      "cell_type": "code",
      "execution_count": 4,
      "metadata": {
        "id": "hAiwOmbNhzbj"
      },
      "outputs": [],
      "source": [
        "from collections import deque"
      ]
    },
    {
      "cell_type": "code",
      "source": [
        "def bidirectional_bfs(graph, start, end):\n",
        "    if start == end:\n",
        "        return [start]\n",
        "\n",
        "    queue_start, queue_end = deque([start]), deque([end])\n",
        "    visited_start, visited_end = {start: None}, {end: None}\n",
        "\n",
        "    while queue_start and queue_end:\n",
        "        if expand(queue_start, visited_start, visited_end, graph):\n",
        "            return construct_path(visited_start, visited_end)\n",
        "        if expand(queue_end, visited_end, visited_start, graph):\n",
        "            return construct_path(visited_start, visited_end)\n",
        "\n",
        "    return None"
      ],
      "metadata": {
        "id": "fs-BtFypjZHJ"
      },
      "execution_count": 5,
      "outputs": []
    },
    {
      "cell_type": "code",
      "source": [
        "def expand(queue, visited_this, visited_other, graph):\n",
        "    current = queue.popleft()\n",
        "    for neighbor in graph[current]:\n",
        "        if neighbor not in visited_this:\n",
        "            visited_this[neighbor] = current\n",
        "            queue.append(neighbor)\n",
        "        if neighbor in visited_other:\n",
        "            return True\n",
        "    return False"
      ],
      "metadata": {
        "id": "PETBrp2kj9EP"
      },
      "execution_count": 6,
      "outputs": []
    },
    {
      "cell_type": "code",
      "source": [
        "def construct_path(visited_start, visited_end):\n",
        "    path = []\n",
        "    meeting_point = next(node for node in visited_start if node in visited_end)\n",
        "\n",
        "    current = meeting_point\n",
        "    while current:\n",
        "        path.append(current)\n",
        "        current = visited_start[current]\n",
        "\n",
        "    path.reverse()\n",
        "    current = visited_end[meeting_point]\n",
        "    while current:\n",
        "        path.append(current)\n",
        "        current = visited_end[current]\n",
        "\n",
        "    return path"
      ],
      "metadata": {
        "id": "Leav9z2rj-4Z"
      },
      "execution_count": 7,
      "outputs": []
    },
    {
      "cell_type": "code",
      "source": [
        "if __name__ == \"__main__\":\n",
        "    graph = {\n",
        "        'A': ['B', 'C'], 'B': ['A', 'D', 'E'], 'C': ['A', 'D', 'F'],\n",
        "        'D': ['B', 'C', 'G'], 'E': ['B', 'H'], 'F': ['C', 'I'],\n",
        "        'G': ['D', 'I'], 'H': ['E', 'I'], 'I': ['F', 'G', 'H', 'J'],\n",
        "        'J': ['I']\n",
        "    }\n",
        "\n",
        "    path = bidirectional_bfs(graph, 'A', 'I')\n",
        "    print(\"Shortest path:\", path if path else \"No path found\")"
      ],
      "metadata": {
        "colab": {
          "base_uri": "https://localhost:8080/"
        },
        "id": "7coOwrQ2kBNV",
        "outputId": "6abfdb9d-9d72-4b80-f113-5c019285a61c"
      },
      "execution_count": 8,
      "outputs": [
        {
          "output_type": "stream",
          "name": "stdout",
          "text": [
            "Shortest path: ['A', 'C', 'F', 'I']\n"
          ]
        }
      ]
    },
    {
      "cell_type": "code",
      "source": [],
      "metadata": {
        "id": "IByCfnP9kDrK"
      },
      "execution_count": null,
      "outputs": []
    }
  ]
}