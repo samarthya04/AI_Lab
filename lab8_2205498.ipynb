{
  "nbformat": 4,
  "nbformat_minor": 0,
  "metadata": {
    "colab": {
      "provenance": [],
      "authorship_tag": "ABX9TyPMqch+rdgS9uZzkM0lbeVV",
      "include_colab_link": true
    },
    "kernelspec": {
      "name": "python3",
      "display_name": "Python 3"
    },
    "language_info": {
      "name": "python"
    }
  },
  "cells": [
    {
      "cell_type": "markdown",
      "metadata": {
        "id": "view-in-github",
        "colab_type": "text"
      },
      "source": [
        "<a href=\"https://colab.research.google.com/github/samarthya04/AI_Lab/blob/main/lab8_2205498.ipynb\" target=\"_parent\"><img src=\"https://colab.research.google.com/assets/colab-badge.svg\" alt=\"Open In Colab\"/></a>"
      ]
    },
    {
      "cell_type": "markdown",
      "source": [
        "**Assignment 8**: Navigation with Multiple Goals\n",
        "\n",
        "Objective: Solve a problem where multiple goals exist using search algorithms.\n",
        "\n",
        "Problem Statement: A robot in a grid needs to collect items (goals) before reachinganexit. Each goal has a different priority or cost.\n",
        "\n",
        "Tasks:\n",
        "- Use BFS/DFS for simpler scenarios (unweighted goals).\n",
        "- Implement A* or Uniform Cost Search for weighted scenarios.\n",
        "- Analyze the trade-offs between path length and goal priority."
      ],
      "metadata": {
        "id": "-fZPFjQjWxWD"
      }
    },
    {
      "cell_type": "code",
      "execution_count": 1,
      "metadata": {
        "id": "VlnCJsr6WwSv"
      },
      "outputs": [],
      "source": [
        "import heapq\n",
        "from collections import deque"
      ]
    },
    {
      "cell_type": "code",
      "source": [
        "def heuristic(a, b):\n",
        "    return abs(a[0] - b[0]) + abs(a[1] - b[1])"
      ],
      "metadata": {
        "id": "1EPNk4TUYLgq"
      },
      "execution_count": 2,
      "outputs": []
    },
    {
      "cell_type": "code",
      "source": [
        "def bfs(grid, start, goals, exit):\n",
        "    queue = deque([(start, 0, [])])\n",
        "    visited = set()\n",
        "    while queue:\n",
        "        (x, y), cost, path = queue.popleft()\n",
        "        if (x, y) in visited:\n",
        "            continue\n",
        "        visited.add((x, y))\n",
        "        path = path + [(x, y)]\n",
        "        if (x, y) in goals:\n",
        "            goals.remove((x, y))\n",
        "        if not goals and (x, y) == exit:\n",
        "            return path\n",
        "        for dx, dy in [(-1,0), (1,0), (0,-1), (0,1)]:\n",
        "            nx, ny = x + dx, y + dy\n",
        "            if 0 <= nx < len(grid) and 0 <= ny < len(grid[0]) and grid[nx][ny] != '#':\n",
        "                queue.append(((nx, ny), cost + 1, path))\n",
        "    return []"
      ],
      "metadata": {
        "id": "pr757jeJYgxv"
      },
      "execution_count": 4,
      "outputs": []
    },
    {
      "cell_type": "code",
      "source": [
        "def dfs(grid, start, goals, exit):\n",
        "    stack = [(start, 0, [])]\n",
        "    visited = set()\n",
        "    while stack:\n",
        "        (x, y), cost, path = stack.pop()\n",
        "        if (x, y) in visited:\n",
        "            continue\n",
        "        visited.add((x, y))\n",
        "        path = path + [(x, y)]\n",
        "        if (x, y) in goals:\n",
        "            goals.remove((x, y))\n",
        "        if not goals and (x, y) == exit:\n",
        "            return path\n",
        "        for dx, dy in [(-1,0), (1,0), (0,-1), (0,1)]:\n",
        "            nx, ny = x + dx, y + dy\n",
        "            if 0 <= nx < len(grid) and 0 <= ny < len(grid[0]) and grid[nx][ny] != '#':\n",
        "                stack.append(((nx, ny), cost + 1, path))\n",
        "    return []"
      ],
      "metadata": {
        "id": "dSob3E9FZegJ"
      },
      "execution_count": 5,
      "outputs": []
    },
    {
      "cell_type": "code",
      "source": [
        "def ucs(grid, start, goals, exit, goal_weights):\n",
        "    pq = [(0, start, [])]\n",
        "    visited = set()\n",
        "    while pq:\n",
        "        cost, (x, y), path = heapq.heappop(pq)\n",
        "        if (x, y) in visited:\n",
        "            continue\n",
        "        visited.add((x, y))\n",
        "        path = path + [(x, y)]\n",
        "        if (x, y) in goals:\n",
        "            cost += goal_weights.get((x, y), 0)\n",
        "            goals.remove((x, y))\n",
        "        if not goals and (x, y) == exit:\n",
        "            return path\n",
        "        for dx, dy in [(-1,0), (1,0), (0,-1), (0,1)]:\n",
        "            nx, ny = x + dx, y + dy\n",
        "            if 0 <= nx < len(grid) and 0 <= ny < len(grid[0]) and grid[nx][ny] != '#':\n",
        "                heapq.heappush(pq, (cost + 1, (nx, ny), path))\n",
        "    return []"
      ],
      "metadata": {
        "id": "aU2EdmCXZq3y"
      },
      "execution_count": 6,
      "outputs": []
    },
    {
      "cell_type": "code",
      "source": [
        "def a_star(grid, start, goals, exit, goal_weights):\n",
        "    pq = [(0, start, [])]\n",
        "    visited = set()\n",
        "    while pq:\n",
        "        cost, (x, y), path = heapq.heappop(pq)\n",
        "        if (x, y) in visited:\n",
        "            continue\n",
        "        visited.add((x, y))\n",
        "        path = path + [(x, y)]\n",
        "        if (x, y) in goals:\n",
        "            cost += goal_weights.get((x, y), 0)\n",
        "            goals.remove((x, y))\n",
        "        if not goals and (x, y) == exit:\n",
        "            return path\n",
        "        for dx, dy in [(-1,0), (1,0), (0,-1), (0,1)]:\n",
        "            nx, ny = x + dx, y + dy\n",
        "            if 0 <= nx < len(grid) and 0 <= ny < len(grid[0]) and grid[nx][ny] != '#':\n",
        "                new_cost = cost + 1 + heuristic((nx, ny), exit)\n",
        "                heapq.heappush(pq, (new_cost, (nx, ny), path))\n",
        "    return []"
      ],
      "metadata": {
        "id": "cGB9sz-SZuqi"
      },
      "execution_count": 7,
      "outputs": []
    },
    {
      "cell_type": "code",
      "source": [
        "grid = [\n",
        "    [\"S\", 0, 0, 0, \"G1\"],\n",
        "    [\"#\", \"#\", 0, \"#\", 0],\n",
        "    [0, 0, 0, 0, \"G2\"],\n",
        "    [\"#\", 0, \"#\", \"#\", 0],\n",
        "    [0, 0, 0, \"E\", 0]\n",
        "]\n",
        "\n",
        "start = (0, 0)\n",
        "goals = {(0, 4), (2, 4)}\n",
        "exit = (4, 3)\n",
        "goal_weights = {(0, 4): 3, (2, 4): 5}\n",
        "\n",
        "print(\"BFS Path:\", bfs(grid, start, set(goals), exit))\n",
        "print(\"DFS Path:\", dfs(grid, start, set(goals), exit))\n",
        "print(\"UCS Path:\", ucs(grid, start, set(goals), exit, goal_weights))\n",
        "print(\"A* Path:\", a_star(grid, start, set(goals), exit, goal_weights))"
      ],
      "metadata": {
        "colab": {
          "base_uri": "https://localhost:8080/"
        },
        "id": "gURewOZ1ZxMO",
        "outputId": "3414e500-f43b-4195-a3cd-0b66c4f6972e"
      },
      "execution_count": 8,
      "outputs": [
        {
          "output_type": "stream",
          "name": "stdout",
          "text": [
            "BFS Path: [(0, 0), (0, 1), (0, 2), (1, 2), (2, 2), (2, 1), (3, 1), (4, 1), (4, 2), (4, 3)]\n",
            "DFS Path: [(0, 0), (0, 1), (0, 2), (0, 3), (0, 4), (1, 4), (2, 4), (2, 3), (2, 2), (2, 1), (3, 1), (4, 1), (4, 2), (4, 3)]\n",
            "UCS Path: [(0, 0), (0, 1), (0, 2), (1, 2), (2, 2), (2, 1), (3, 1), (4, 1), (4, 2), (4, 3)]\n",
            "A* Path: [(0, 0), (0, 1), (0, 2), (1, 2), (2, 2), (2, 1), (3, 1), (4, 1), (4, 2), (4, 3)]\n"
          ]
        }
      ]
    },
    {
      "cell_type": "markdown",
      "source": [
        "**Assignment 9**: AI Planner Using A for Task Scheduling*\n",
        "\n",
        "Objective: Use A* Search to optimize task scheduling.\n",
        "\n",
        "Problem Statement: A set of tasks with dependencies and durations needs to be scheduled to minimize total time.\n",
        "\n",
        "Tasks:\n",
        "- Represent tasks and dependencies as a directed graph.\n",
        "- Use A* Search when the heuristic estimates the remaining tasks' duration.\n",
        "- Compare results with a greedy algorithm."
      ],
      "metadata": {
        "id": "7BAOHHncd1qG"
      }
    },
    {
      "cell_type": "code",
      "source": [
        "import heapq"
      ],
      "metadata": {
        "id": "bbxUCZG9aVhR"
      },
      "execution_count": 9,
      "outputs": []
    },
    {
      "cell_type": "code",
      "source": [
        "def heuristic(remaining_tasks, durations):\n",
        "    return sum(durations[t] for t in remaining_tasks)"
      ],
      "metadata": {
        "id": "4z9PSmA0fYg8"
      },
      "execution_count": 10,
      "outputs": []
    },
    {
      "cell_type": "code",
      "source": [
        "def a_star_scheduler(tasks, dependencies, durations):\n",
        "    pq = [(0, [], set(tasks))]\n",
        "    best_time = float('inf')\n",
        "    best_schedule = []\n",
        "\n",
        "    while pq:\n",
        "        cost, schedule, remaining_tasks = heapq.heappop(pq)\n",
        "\n",
        "        if not remaining_tasks:\n",
        "            if cost < best_time:\n",
        "                best_time = cost\n",
        "                best_schedule = schedule\n",
        "            continue\n",
        "\n",
        "        available_tasks = [t for t in remaining_tasks if all(dep in schedule for dep in dependencies.get(t, []))]\n",
        "\n",
        "        for task in available_tasks:\n",
        "            new_schedule = schedule + [task]\n",
        "            new_remaining = remaining_tasks - {task}\n",
        "            new_cost = cost + durations[task]\n",
        "            est_cost = new_cost + heuristic(new_remaining, durations)\n",
        "            heapq.heappush(pq, (est_cost, new_schedule, new_remaining))\n",
        "\n",
        "    return best_schedule, best_time"
      ],
      "metadata": {
        "id": "AHAioYpefbai"
      },
      "execution_count": 11,
      "outputs": []
    },
    {
      "cell_type": "code",
      "source": [
        "def greedy_scheduler(tasks, dependencies, durations):\n",
        "    schedule = []\n",
        "    remaining_tasks = set(tasks)\n",
        "    total_time = 0\n",
        "\n",
        "    while remaining_tasks:\n",
        "        available_tasks = [t for t in remaining_tasks if all(dep in schedule for dep in dependencies.get(t, []))]\n",
        "        if not available_tasks:\n",
        "            return [], float('inf')\n",
        "        next_task = min(available_tasks, key=lambda t: durations[t])\n",
        "        schedule.append(next_task)\n",
        "        remaining_tasks.remove(next_task)\n",
        "        total_time += durations[next_task]\n",
        "\n",
        "    return schedule, total_time"
      ],
      "metadata": {
        "id": "nLNWRzuxfjBs"
      },
      "execution_count": 12,
      "outputs": []
    },
    {
      "cell_type": "code",
      "source": [
        "tasks = {\"A\", \"B\", \"C\", \"D\", \"E\"}\n",
        "dependencies = {\"B\": [\"A\"], \"C\": [\"A\"], \"D\": [\"B\", \"C\"], \"E\": [\"D\"]}\n",
        "durations = {\"A\": 3, \"B\": 2, \"C\": 1, \"D\": 4, \"E\": 2}\n",
        "\n",
        "print(\"A* Schedule:\", a_star_scheduler(tasks, dependencies, durations))\n",
        "print(\"Greedy Schedule:\", greedy_scheduler(tasks, dependencies, durations))"
      ],
      "metadata": {
        "id": "von_VHYofmsk",
        "outputId": "06f47869-e181-4db2-f3c5-e2cf483cca59",
        "colab": {
          "base_uri": "https://localhost:8080/"
        }
      },
      "execution_count": 13,
      "outputs": [
        {
          "output_type": "stream",
          "name": "stdout",
          "text": [
            "A* Schedule: (['A', 'B', 'C', 'D', 'E'], 36)\n",
            "Greedy Schedule: (['A', 'C', 'B', 'D', 'E'], 12)\n"
          ]
        }
      ]
    },
    {
      "cell_type": "code",
      "source": [],
      "metadata": {
        "id": "7ZqUEKQRfq82"
      },
      "execution_count": null,
      "outputs": []
    }
  ]
}