{
  "nbformat": 4,
  "nbformat_minor": 0,
  "metadata": {
    "colab": {
      "provenance": [],
      "authorship_tag": "ABX9TyNsu2bob9E0B/bTDFWixPml",
      "include_colab_link": true
    },
    "kernelspec": {
      "name": "python3",
      "display_name": "Python 3"
    },
    "language_info": {
      "name": "python"
    }
  },
  "cells": [
    {
      "cell_type": "markdown",
      "metadata": {
        "id": "view-in-github",
        "colab_type": "text"
      },
      "source": [
        "<a href=\"https://colab.research.google.com/github/samarthya04/AI_Lab/blob/main/lab8_2205498.ipynb\" target=\"_parent\"><img src=\"https://colab.research.google.com/assets/colab-badge.svg\" alt=\"Open In Colab\"/></a>"
      ]
    },
    {
      "cell_type": "markdown",
      "source": [
        "**Assignment 8**: Navigation with Multiple Goals\n",
        "\n",
        "Objective: Solve a problem where multiple goals exist using search algorithms.\n",
        "\n",
        "Problem Statement: A robot in a grid needs to collect items (goals) before reachinganexit. Each goal has a different priority or cost.\n",
        "\n",
        "Tasks:\n",
        "- Use BFS/DFS for simpler scenarios (unweighted goals).\n",
        "- Implement A* or Uniform Cost Search for weighted scenarios.\n",
        "- Analyze the trade-offs between path length and goal priority."
      ],
      "metadata": {
        "id": "-fZPFjQjWxWD"
      }
    },
    {
      "cell_type": "code",
      "execution_count": 1,
      "metadata": {
        "id": "VlnCJsr6WwSv"
      },
      "outputs": [],
      "source": [
        "import heapq\n",
        "from collections import deque"
      ]
    },
    {
      "cell_type": "code",
      "source": [
        "def heuristic(a, b):\n",
        "    return abs(a[0] - b[0]) + abs(a[1] - b[1])"
      ],
      "metadata": {
        "id": "1EPNk4TUYLgq"
      },
      "execution_count": 2,
      "outputs": []
    },
    {
      "cell_type": "code",
      "source": [
        "def bfs(grid, start, goals, exit):\n",
        "    queue = deque([(start, 0, [])])\n",
        "    visited = set()\n",
        "    while queue:\n",
        "        (x, y), cost, path = queue.popleft()\n",
        "        if (x, y) in visited:\n",
        "            continue\n",
        "        visited.add((x, y))\n",
        "        path = path + [(x, y)]\n",
        "        if (x, y) in goals:\n",
        "            goals.remove((x, y))\n",
        "        if not goals and (x, y) == exit:\n",
        "            return path\n",
        "        for dx, dy in [(-1,0), (1,0), (0,-1), (0,1)]:\n",
        "            nx, ny = x + dx, y + dy\n",
        "            if 0 <= nx < len(grid) and 0 <= ny < len(grid[0]) and grid[nx][ny] != '#':\n",
        "                queue.append(((nx, ny), cost + 1, path))\n",
        "    return []"
      ],
      "metadata": {
        "id": "pr757jeJYgxv"
      },
      "execution_count": 4,
      "outputs": []
    },
    {
      "cell_type": "code",
      "source": [
        "def dfs(grid, start, goals, exit):\n",
        "    stack = [(start, 0, [])]\n",
        "    visited = set()\n",
        "    while stack:\n",
        "        (x, y), cost, path = stack.pop()\n",
        "        if (x, y) in visited:\n",
        "            continue\n",
        "        visited.add((x, y))\n",
        "        path = path + [(x, y)]\n",
        "        if (x, y) in goals:\n",
        "            goals.remove((x, y))\n",
        "        if not goals and (x, y) == exit:\n",
        "            return path\n",
        "        for dx, dy in [(-1,0), (1,0), (0,-1), (0,1)]:\n",
        "            nx, ny = x + dx, y + dy\n",
        "            if 0 <= nx < len(grid) and 0 <= ny < len(grid[0]) and grid[nx][ny] != '#':\n",
        "                stack.append(((nx, ny), cost + 1, path))\n",
        "    return []"
      ],
      "metadata": {
        "id": "dSob3E9FZegJ"
      },
      "execution_count": 5,
      "outputs": []
    },
    {
      "cell_type": "code",
      "source": [
        "def ucs(grid, start, goals, exit, goal_weights):\n",
        "    pq = [(0, start, [])]\n",
        "    visited = set()\n",
        "    while pq:\n",
        "        cost, (x, y), path = heapq.heappop(pq)\n",
        "        if (x, y) in visited:\n",
        "            continue\n",
        "        visited.add((x, y))\n",
        "        path = path + [(x, y)]\n",
        "        if (x, y) in goals:\n",
        "            cost += goal_weights.get((x, y), 0)\n",
        "            goals.remove((x, y))\n",
        "        if not goals and (x, y) == exit:\n",
        "            return path\n",
        "        for dx, dy in [(-1,0), (1,0), (0,-1), (0,1)]:\n",
        "            nx, ny = x + dx, y + dy\n",
        "            if 0 <= nx < len(grid) and 0 <= ny < len(grid[0]) and grid[nx][ny] != '#':\n",
        "                heapq.heappush(pq, (cost + 1, (nx, ny), path))\n",
        "    return []"
      ],
      "metadata": {
        "id": "aU2EdmCXZq3y"
      },
      "execution_count": 6,
      "outputs": []
    },
    {
      "cell_type": "code",
      "source": [
        "def a_star(grid, start, goals, exit, goal_weights):\n",
        "    pq = [(0, start, [])]\n",
        "    visited = set()\n",
        "    while pq:\n",
        "        cost, (x, y), path = heapq.heappop(pq)\n",
        "        if (x, y) in visited:\n",
        "            continue\n",
        "        visited.add((x, y))\n",
        "        path = path + [(x, y)]\n",
        "        if (x, y) in goals:\n",
        "            cost += goal_weights.get((x, y), 0)\n",
        "            goals.remove((x, y))\n",
        "        if not goals and (x, y) == exit:\n",
        "            return path\n",
        "        for dx, dy in [(-1,0), (1,0), (0,-1), (0,1)]:\n",
        "            nx, ny = x + dx, y + dy\n",
        "            if 0 <= nx < len(grid) and 0 <= ny < len(grid[0]) and grid[nx][ny] != '#':\n",
        "                new_cost = cost + 1 + heuristic((nx, ny), exit)\n",
        "                heapq.heappush(pq, (new_cost, (nx, ny), path))\n",
        "    return []"
      ],
      "metadata": {
        "id": "cGB9sz-SZuqi"
      },
      "execution_count": 7,
      "outputs": []
    },
    {
      "cell_type": "code",
      "source": [
        "grid = [\n",
        "    [\"S\", 0, 0, 0, \"G1\"],\n",
        "    [\"#\", \"#\", 0, \"#\", 0],\n",
        "    [0, 0, 0, 0, \"G2\"],\n",
        "    [\"#\", 0, \"#\", \"#\", 0],\n",
        "    [0, 0, 0, \"E\", 0]\n",
        "]\n",
        "\n",
        "start = (0, 0)\n",
        "goals = {(0, 4), (2, 4)}\n",
        "exit = (4, 3)\n",
        "goal_weights = {(0, 4): 3, (2, 4): 5}\n",
        "\n",
        "print(\"BFS Path:\", bfs(grid, start, set(goals), exit))\n",
        "print(\"DFS Path:\", dfs(grid, start, set(goals), exit))\n",
        "print(\"UCS Path:\", ucs(grid, start, set(goals), exit, goal_weights))\n",
        "print(\"A* Path:\", a_star(grid, start, set(goals), exit, goal_weights))"
      ],
      "metadata": {
        "id": "gURewOZ1ZxMO",
        "outputId": "3414e500-f43b-4195-a3cd-0b66c4f6972e",
        "colab": {
          "base_uri": "https://localhost:8080/"
        }
      },
      "execution_count": 8,
      "outputs": [
        {
          "output_type": "stream",
          "name": "stdout",
          "text": [
            "BFS Path: [(0, 0), (0, 1), (0, 2), (1, 2), (2, 2), (2, 1), (3, 1), (4, 1), (4, 2), (4, 3)]\n",
            "DFS Path: [(0, 0), (0, 1), (0, 2), (0, 3), (0, 4), (1, 4), (2, 4), (2, 3), (2, 2), (2, 1), (3, 1), (4, 1), (4, 2), (4, 3)]\n",
            "UCS Path: [(0, 0), (0, 1), (0, 2), (1, 2), (2, 2), (2, 1), (3, 1), (4, 1), (4, 2), (4, 3)]\n",
            "A* Path: [(0, 0), (0, 1), (0, 2), (1, 2), (2, 2), (2, 1), (3, 1), (4, 1), (4, 2), (4, 3)]\n"
          ]
        }
      ]
    },
    {
      "cell_type": "code",
      "source": [],
      "metadata": {
        "id": "bbxUCZG9aVhR"
      },
      "execution_count": null,
      "outputs": []
    }
  ]
}