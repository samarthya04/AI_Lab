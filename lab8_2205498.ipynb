{
  "nbformat": 4,
  "nbformat_minor": 0,
  "metadata": {
    "colab": {
      "provenance": [],
      "authorship_tag": "ABX9TyMvkjokWK/xxdDcQ9s125kG",
      "include_colab_link": true
    },
    "kernelspec": {
      "name": "python3",
      "display_name": "Python 3"
    },
    "language_info": {
      "name": "python"
    }
  },
  "cells": [
    {
      "cell_type": "markdown",
      "metadata": {
        "id": "view-in-github",
        "colab_type": "text"
      },
      "source": [
        "<a href=\"https://colab.research.google.com/github/samarthya04/AI_Lab/blob/main/lab8_2205498.ipynb\" target=\"_parent\"><img src=\"https://colab.research.google.com/assets/colab-badge.svg\" alt=\"Open In Colab\"/></a>"
      ]
    },
    {
      "cell_type": "markdown",
      "source": [
        "**Assignment 8**: Navigation with Multiple Goals\n",
        "\n",
        "Objective: Solve a problem where multiple goals exist using search algorithms.\n",
        "\n",
        "Problem Statement: A robot in a grid needs to collect items (goals) before reachinganexit. Each goal has a different priority or cost.\n",
        "\n",
        "Tasks:\n",
        "- Use BFS/DFS for simpler scenarios (unweighted goals).\n",
        "- Implement A* or Uniform Cost Search for weighted scenarios.\n",
        "- Analyze the trade-offs between path length and goal priority."
      ],
      "metadata": {
        "id": "-fZPFjQjWxWD"
      }
    },
    {
      "cell_type": "code",
      "execution_count": null,
      "metadata": {
        "id": "VlnCJsr6WwSv"
      },
      "outputs": [],
      "source": []
    }
  ]
}