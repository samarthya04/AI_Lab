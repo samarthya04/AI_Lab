{
  "nbformat": 4,
  "nbformat_minor": 0,
  "metadata": {
    "colab": {
      "provenance": [],
      "authorship_tag": "ABX9TyMdrwiP8lbc3hlWT4KBNTbU",
      "include_colab_link": true
    },
    "kernelspec": {
      "name": "python3",
      "display_name": "Python 3"
    },
    "language_info": {
      "name": "python"
    }
  },
  "cells": [
    {
      "cell_type": "markdown",
      "metadata": {
        "id": "view-in-github",
        "colab_type": "text"
      },
      "source": [
        "<a href=\"https://colab.research.google.com/github/samarthya04/AI_Lab/blob/main/lab9_2205498.ipynb\" target=\"_parent\"><img src=\"https://colab.research.google.com/assets/colab-badge.svg\" alt=\"Open In Colab\"/></a>"
      ]
    },
    {
      "cell_type": "markdown",
      "source": [
        "**Assignment 10**: Comparative Study\n",
        "\n",
        "Objective: Evaluate and compare different search algorithms.\n",
        "\n",
        "Problem Statement: Given a domain (e.g., pathfinding, puzzle solving), evaluate BFS, DFS, Bi-directional BFS, Uniform Cost Search, Best-First Search, and A* Search.\n",
        "\n",
        "Tasks:\n",
        "\n",
        "Analyze:\n",
        "\n",
        "- Efficiency: Nodes explored, time taken.\n",
        "- Optimality: Whether the solution is optimal.\n",
        "- Create visualizations to compare algorithms"
      ],
      "metadata": {
        "id": "14udEO4giLvW"
      }
    },
    {
      "cell_type": "code",
      "source": [
        "import heapq\n",
        "import time\n",
        "from collections import deque\n",
        "\n",
        "goal_state = (1, 2, 3, 4, 5, 6, 7, 8, 0)\n",
        "\n",
        "def get_successors(state):\n",
        "    index = state.index(0)\n",
        "    moves = []\n",
        "\n",
        "    if index % 3 != 0:\n",
        "        moves.append(index - 1)\n",
        "    if index % 3 != 2:\n",
        "        moves.append(index + 1)\n",
        "    if index > 2:\n",
        "        moves.append(index - 3)\n",
        "    if index < 6:\n",
        "        moves.append(index + 3)\n",
        "\n",
        "    successors = []\n",
        "    for move in moves:\n",
        "        new_state = list(state)\n",
        "        new_state[index], new_state[move] = new_state[move], new_state[index]\n",
        "        successors.append(tuple(new_state))\n",
        "\n",
        "    return successors\n",
        "\n",
        "def search(start, strategy):\n",
        "    start_time = time.time()\n",
        "    frontier = deque([start]) if strategy == 'bfs' else [start]\n",
        "    explored = set()\n",
        "    nodes_explored = 0\n",
        "\n",
        "    while frontier:\n",
        "        state = frontier.popleft() if strategy == 'bfs' else frontier.pop()\n",
        "        nodes_explored += 1\n",
        "\n",
        "        if state == goal_state:\n",
        "            return nodes_explored, time.time() - start_time\n",
        "\n",
        "        explored.add(state)\n",
        "        for neighbor in get_successors(state):\n",
        "            if neighbor not in explored and neighbor not in frontier:\n",
        "                frontier.append(neighbor)\n",
        "\n",
        "    return nodes_explored, time.time() - start_time\n",
        "\n",
        "def priority_search(start, heuristic=lambda s: 0):\n",
        "    start_time = time.time()\n",
        "    frontier = [(heuristic(start), start, 0)]\n",
        "    explored = set()\n",
        "    nodes_explored = 0\n",
        "\n",
        "    while frontier:\n",
        "        _, state, cost = heapq.heappop(frontier)\n",
        "        nodes_explored += 1\n",
        "\n",
        "        if state == goal_state:\n",
        "            return nodes_explored, time.time() - start_time\n",
        "\n",
        "        explored.add(state)\n",
        "        for neighbor in get_successors(state):\n",
        "            if neighbor not in explored:\n",
        "                new_cost = cost + 1\n",
        "                heapq.heappush(frontier, (heuristic(neighbor) + new_cost, neighbor, new_cost))\n",
        "\n",
        "    return nodes_explored, time.time() - start_time\n",
        "\n",
        "def heuristic(state):\n",
        "    return sum(abs(b % 3 - g % 3) + abs(b // 3 - g // 3)\n",
        "               for b, g in ((state.index(i), goal_state.index(i)) for i in range(1, 9)))\n",
        "\n",
        "def evaluate_algorithms(start):\n",
        "    algorithms = {\n",
        "        'BFS': search(start, 'bfs'),\n",
        "        'DFS': search(start, 'dfs'),\n",
        "        'Uniform Cost Search': priority_search(start),\n",
        "        'Best-First Search': priority_search(start, heuristic),\n",
        "        'A* Search': priority_search(start, lambda s: heuristic(s))\n",
        "    }\n",
        "    return algorithms\n",
        "\n",
        "initial_state = (1, 2, 3, 4, 5, 6, 0, 7, 8)\n",
        "results = evaluate_algorithms(initial_state)\n",
        "\n",
        "for algorithm, (nodes, time_taken) in results.items():\n",
        "    print(f\"{algorithm}:\\n  Nodes Explored: {nodes}\\n  Time Taken: {time_taken:.6f} seconds\\n\")"
      ],
      "metadata": {
        "id": "0n5MG62-0jYM"
      },
      "execution_count": null,
      "outputs": []
    },
    {
      "cell_type": "markdown",
      "source": [
        "**Assignment 11**: Implementation of local optimization techniques, such as Hill Climbing, for solving AI-based search problems."
      ],
      "metadata": {
        "id": "Y7gaxV9GijjS"
      }
    },
    {
      "cell_type": "code",
      "source": [
        "import random"
      ],
      "metadata": {
        "id": "t4e2V9GPiqC2"
      },
      "execution_count": null,
      "outputs": []
    },
    {
      "cell_type": "code",
      "source": [
        "def objective_function(x):\n",
        "    return -(x - 3) ** 2 + 9"
      ],
      "metadata": {
        "id": "H2NL36ivzVW4"
      },
      "execution_count": null,
      "outputs": []
    },
    {
      "cell_type": "code",
      "source": [
        "def generate_neighbors(x, step_size=0.1):\n",
        "    return [x + random.uniform(-step_size, step_size) for _ in range(10)]"
      ],
      "metadata": {
        "id": "cLuvBt2SzWuu"
      },
      "execution_count": null,
      "outputs": []
    },
    {
      "cell_type": "code",
      "source": [
        "def hill_climbing(f, x0):\n",
        "    x = x0\n",
        "    while True:\n",
        "        neighbors = generate_neighbors(x)\n",
        "        best_neighbor = max(neighbors, key=f)\n",
        "        if f(best_neighbor) <= f(x):\n",
        "            return x\n",
        "        x = best_neighbor"
      ],
      "metadata": {
        "id": "Zoc0JfbXzYJ3"
      },
      "execution_count": null,
      "outputs": []
    },
    {
      "cell_type": "code",
      "source": [
        "best_x = hill_climbing(objective_function, random.uniform(-10, 10))\n",
        "best_value = objective_function(best_x)\n",
        "print(\"Best solution found:\")\n",
        "print(f\"x = {best_x:.5f}\")\n",
        "print(f\"f(x) = {best_value:.5f}\")"
      ],
      "metadata": {
        "id": "Rv5IN4kuzXh1"
      },
      "execution_count": null,
      "outputs": []
    },
    {
      "cell_type": "code",
      "source": [],
      "metadata": {
        "id": "ZzzCeo6mzKA0"
      },
      "execution_count": null,
      "outputs": []
    }
  ]
}