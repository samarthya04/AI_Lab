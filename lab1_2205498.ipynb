{
  "cells": [
    {
      "cell_type": "markdown",
      "metadata": {
        "id": "view-in-github",
        "colab_type": "text"
      },
      "source": [
        "<a href=\"https://colab.research.google.com/github/samarthya04/AI_Lab/blob/main/lab1_2205498.ipynb\" target=\"_parent\"><img src=\"https://colab.research.google.com/assets/colab-badge.svg\" alt=\"Open In Colab\"/></a>"
      ]
    },
    {
      "cell_type": "markdown",
      "metadata": {
        "id": "iEPRfQg54MwU"
      },
      "source": [
        "1.Design a Simple Vacuum Cleaner Agent that decides its actions based on percepts using an\n",
        "if-else statement. The vacuum cleaner operates in a 2-state environment: either the current\n",
        "location is Dirty or Clean. If the location is dirty, the agent should perform the action Suck\n",
        "(clean the dirt), otherwise move in a predefined direction (e.g., Right or Left)."
      ]
    },
    {
      "cell_type": "code",
      "execution_count": 3,
      "metadata": {
        "colab": {
          "base_uri": "https://localhost:8080/"
        },
        "id": "hx6KRdA_4cAl",
        "outputId": "d51bde4f-e49f-43c1-fc7f-1b2b4d0bdd12"
      },
      "outputs": [
        {
          "output_type": "stream",
          "name": "stdout",
          "text": [
            "enter current location:A\n",
            "The vacuum cleaner will: Move Left\n"
          ]
        }
      ],
      "source": [
        "def vacuum_cleaner_agent(loc):\n",
        "    if loc == \"Dirty\":\n",
        "        return \"Suck\"\n",
        "    else:\n",
        "        return \"Move Left\"\n",
        "\n",
        "current_location_status = input(\"enter current location:\")\n",
        "action = vacuum_cleaner_agent(current_location_status)\n",
        "print(f\"The vacuum cleaner will: {action}\")\n"
      ]
    },
    {
      "cell_type": "markdown",
      "metadata": {
        "id": "JGWTk59a8BDG"
      },
      "source": [
        "2.you are tasked with simulating the Vacuum Cleaner World problem using a dictionary in\n",
        "Python. The environment consists of two locations, A and B, which can either be dirty (1) or\n",
        "clean (0). The agent can perform the following actions:\n",
        "1. Clean: If the current location is dirty, clean it.\n",
        "2. Move Left: Move to location A.\n",
        "3. Move Right: Move to location B."
      ]
    },
    {
      "cell_type": "code",
      "execution_count": 4,
      "metadata": {
        "colab": {
          "base_uri": "https://localhost:8080/"
        },
        "id": "DnO-ThU--SG4",
        "outputId": "ae98470d-1f85-4539-95e3-ce40f73a4122"
      },
      "outputs": [
        {
          "output_type": "stream",
          "name": "stdout",
          "text": [
            "Enter the state of location A (1 for dirty, 0 for clean): 1\n",
            "Enter the state of location B (1 for dirty, 0 for clean): 1\n",
            "Current Location: A, Environment: {'A': 1, 'B': 1}\n",
            "Cleaning location A.\n",
            "Current Location: A, Environment: {'A': 0, 'B': 1}\n",
            "Moved to location B.\n",
            "Current Location: B, Environment: {'A': 0, 'B': 1}\n",
            "Cleaning location B.\n",
            "Current Location: B, Environment: {'A': 0, 'B': 0}\n",
            "Both locations are clean!\n"
          ]
        }
      ],
      "source": [
        "def vacuum_cleaner():\n",
        "    a_state = int(input(\"Enter the state of location A (1 for dirty, 0 for clean): \"))\n",
        "    b_state = int(input(\"Enter the state of location B (1 for dirty, 0 for clean): \"))\n",
        "\n",
        "    environment = {'A': a_state, 'B': b_state}\n",
        "    current_location = 'A'\n",
        "\n",
        "    while True:\n",
        "        print(f\"Current Location: {current_location}, Environment: {environment}\")\n",
        "        if all(value == 0 for value in environment.values()):\n",
        "            print(\"Both locations are clean!\")\n",
        "            break\n",
        "        if environment[current_location] == 1:\n",
        "            print(f\"Cleaning location {current_location}.\")\n",
        "            environment[current_location] = 0\n",
        "        else:\n",
        "            current_location = 'B' if current_location == 'A' else 'A'\n",
        "            print(f\"Moved to location {current_location}.\")\n",
        "\n",
        "vacuum_cleaner()"
      ]
    },
    {
      "cell_type": "markdown",
      "metadata": {
        "id": "Tyv_GjXBIzYz"
      },
      "source": [
        "3.Write a Python program to take input from the user to construct a graph\n",
        "and then implement both Breadth-First Search (BFS) and Depth-First Search (DFS) algorithms\n",
        "on that graph."
      ]
    },
    {
      "cell_type": "code",
      "execution_count": 8,
      "metadata": {
        "colab": {
          "base_uri": "https://localhost:8080/"
        },
        "id": "KwUeRet5I3Gi",
        "outputId": "08341c75-4947-4856-d747-1c6264400ece"
      },
      "outputs": [
        {
          "output_type": "stream",
          "name": "stdout",
          "text": [
            "Number of nodes: 5\n",
            "Enter node: 1\n",
            "Enter neighbors of 1 (space-separated): 2 3\n",
            "Enter node: 2\n",
            "Enter neighbors of 2 (space-separated): 4\n",
            "Enter node: 3\n",
            "Enter neighbors of 3 (space-separated): 4\n",
            "Enter node: 4\n",
            "Enter neighbors of 4 (space-separated): 4\n",
            "Enter node: 5\n",
            "Enter neighbors of 5 (space-separated): 5\n",
            "Starting node: 1\n",
            "BFS: 1 2 3 4 \n",
            "DFS: 1 2 4 3 "
          ]
        }
      ],
      "source": [
        "from collections import deque\n",
        "\n",
        "def bfs(graph, start):\n",
        "    visited, queue = set(), deque([start])\n",
        "    while queue:\n",
        "        node = queue.popleft()\n",
        "        if node not in visited:\n",
        "            print(node, end=\" \")\n",
        "            visited.add(node)\n",
        "            queue.extend(graph[node])\n",
        "\n",
        "def dfs(graph, start, visited=None):\n",
        "    if visited is None:\n",
        "        visited = set()\n",
        "    print(start, end=\" \")\n",
        "    visited.add(start)\n",
        "    for neighbor in graph[start]:\n",
        "        if neighbor not in visited:\n",
        "            dfs(graph, neighbor, visited)\n",
        "\n",
        "if __name__ == \"__main__\":\n",
        "    graph = {}\n",
        "    n = int(input(\"Number of nodes: \"))\n",
        "    for _ in range(n):\n",
        "        node = input(\"Enter node: \")\n",
        "        neighbors = input(f\"Enter neighbors of {node} (space-separated): \").split()\n",
        "        graph[node] = neighbors\n",
        "    start = input(\"Starting node: \")\n",
        "    print(\"BFS:\", end=\" \")\n",
        "    bfs(graph, start)\n",
        "    print(\"\\nDFS:\", end=\" \")\n",
        "    dfs(graph, start)"
      ]
    },
    {
      "cell_type": "code",
      "execution_count": 8,
      "metadata": {
        "id": "RcMvnRQ9ElLY"
      },
      "outputs": [],
      "source": []
    }
  ],
  "metadata": {
    "colab": {
      "provenance": [],
      "include_colab_link": true
    },
    "kernelspec": {
      "display_name": "Python 3 (ipykernel)",
      "language": "python",
      "name": "python3"
    },
    "language_info": {
      "codemirror_mode": {
        "name": "ipython",
        "version": 3
      },
      "file_extension": ".py",
      "mimetype": "text/x-python",
      "name": "python",
      "nbconvert_exporter": "python",
      "pygments_lexer": "ipython3",
      "version": "3.12.7"
    }
  },
  "nbformat": 4,
  "nbformat_minor": 0
}