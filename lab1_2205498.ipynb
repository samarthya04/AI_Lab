{
 "cells": [
  {
   "cell_type": "markdown",
   "metadata": {
    "id": "iEPRfQg54MwU"
   },
   "source": [
    "1.Design a Simple Vacuum Cleaner Agent that decides its actions based on percepts using an\n",
    "if-else statement. The vacuum cleaner operates in a 2-state environment: either the current\n",
    "location is Dirty or Clean. If the location is dirty, the agent should perform the action Suck\n",
    "(clean the dirt), otherwise move in a predefined direction (e.g., Right or Left)."
   ]
  },
  {
   "cell_type": "code",
   "execution_count": 1,
   "metadata": {
    "colab": {
     "base_uri": "https://localhost:8080/"
    },
    "id": "hx6KRdA_4cAl",
    "outputId": "84198709-20fd-4db8-bd7c-ffa4d58532f9"
   },
   "outputs": [
    {
     "name": "stdin",
     "output_type": "stream",
     "text": [
      "enter current location: A\n"
     ]
    },
    {
     "name": "stdout",
     "output_type": "stream",
     "text": [
      "The vacuum cleaner will: Move Left\n"
     ]
    }
   ],
   "source": [
    "def vacuum_cleaner_agent(loc):\n",
    "    if loc == \"Dirty\":\n",
    "        return \"Suck\"\n",
    "    else:\n",
    "        return \"Move Left\"\n",
    "\n",
    "current_location_status = input(\"enter current location:\")\n",
    "action = vacuum_cleaner_agent(current_location_status)\n",
    "print(f\"The vacuum cleaner will: {action}\")\n"
   ]
  },
  {
   "cell_type": "markdown",
   "metadata": {
    "id": "JGWTk59a8BDG"
   },
   "source": [
    "2.you are tasked with simulating the Vacuum Cleaner World problem using a dictionary in\n",
    "Python. The environment consists of two locations, A and B, which can either be dirty (1) or\n",
    "clean (0). The agent can perform the following actions:\n",
    "1. Clean: If the current location is dirty, clean it.\n",
    "2. Move Left: Move to location A.\n",
    "3. Move Right: Move to location B."
   ]
  },
  {
   "cell_type": "code",
   "execution_count": 2,
   "metadata": {
    "colab": {
     "base_uri": "https://localhost:8080/"
    },
    "id": "DnO-ThU--SG4",
    "outputId": "25e1a583-5777-4f50-dc76-d77d785d5d47"
   },
   "outputs": [
    {
     "ename": "NameError",
     "evalue": "name 'main' is not defined",
     "output_type": "error",
     "traceback": [
      "\u001b[1;31m---------------------------------------------------------------------------\u001b[0m",
      "\u001b[1;31mNameError\u001b[0m                                 Traceback (most recent call last)",
      "Cell \u001b[1;32mIn[2], line 21\u001b[0m\n\u001b[0;32m     18\u001b[0m             \u001b[38;5;28mprint\u001b[39m(\u001b[38;5;124mf\u001b[39m\u001b[38;5;124m\"\u001b[39m\u001b[38;5;124mMoved to location \u001b[39m\u001b[38;5;132;01m{\u001b[39;00mcurrent_location\u001b[38;5;132;01m}\u001b[39;00m\u001b[38;5;124m.\u001b[39m\u001b[38;5;124m\"\u001b[39m)\n\u001b[0;32m     20\u001b[0m \u001b[38;5;28;01mif\u001b[39;00m \u001b[38;5;18m__name__\u001b[39m \u001b[38;5;241m==\u001b[39m \u001b[38;5;124m\"\u001b[39m\u001b[38;5;124m__main__\u001b[39m\u001b[38;5;124m\"\u001b[39m:\n\u001b[1;32m---> 21\u001b[0m     \u001b[43mmain\u001b[49m()\n",
      "\u001b[1;31mNameError\u001b[0m: name 'main' is not defined"
     ]
    }
   ],
   "source": [
    "def vacuum_cleaner():\n",
    "    a_state = int(input(\"Enter the state of location A (1 for dirty, 0 for clean): \"))\n",
    "    b_state = int(input(\"Enter the state of location B (1 for dirty, 0 for clean): \"))\n",
    "\n",
    "    environment = {'A': a_state, 'B': b_state}\n",
    "    current_location = 'A' \n",
    "\n",
    "    while True:\n",
    "        print(f\"Current Location: {current_location}, Environment: {environment}\")\n",
    "        if all(value == 0 for value in environment.values()):\n",
    "            print(\"Both locations are clean!\")\n",
    "            break\n",
    "        if environment[current_location] == 1:\n",
    "            print(f\"Cleaning location {current_location}.\")\n",
    "            environment[current_location] = 0\n",
    "        else:\n",
    "            current_location = 'B' if current_location == 'A' else 'A'\n",
    "            print(f\"Moved to location {current_location}.\")\n",
    "\n",
    "if __name__ == \"__main__\":\n",
    "    main()"
   ]
  },
  {
   "cell_type": "markdown",
   "metadata": {
    "id": "Tyv_GjXBIzYz"
   },
   "source": [
    "3.Write a Python program to take input from the user to construct a graph\n",
    "and then implement both Breadth-First Search (BFS) and Depth-First Search (DFS) algorithms\n",
    "on that graph."
   ]
  },
  {
   "cell_type": "code",
   "execution_count": 4,
   "metadata": {
    "colab": {
     "base_uri": "https://localhost:8080/"
    },
    "id": "KwUeRet5I3Gi",
    "outputId": "4073c88f-220e-44ac-ddf3-e8c0f9800461"
   },
   "outputs": [
    {
     "name": "stdin",
     "output_type": "stream",
     "text": [
      "Enter the number of nodes in the graph:  5\n"
     ]
    },
    {
     "name": "stdout",
     "output_type": "stream",
     "text": [
      "Enter the connected nodes for each node (space-separated):\n"
     ]
    },
    {
     "name": "stdin",
     "output_type": "stream",
     "text": [
      "Node 0:  5\n",
      "Node 1:  2\n",
      "Node 2:  4\n",
      "Node 3:  5\n",
      "Node 4:  2\n",
      "Enter the starting node for BFS and DFS:  4\n"
     ]
    },
    {
     "name": "stdout",
     "output_type": "stream",
     "text": [
      "BFS Traversal: [4, 2]\n",
      "DFS Traversal: [4, 2]\n"
     ]
    }
   ],
   "source": [
    "from collections import deque\n",
    "\n",
    "def bfs(graph, start):\n",
    "    visited = set()\n",
    "    queue = deque([start])\n",
    "    bfs_traversal = []\n",
    "\n",
    "    while queue:\n",
    "        node = queue.popleft()\n",
    "        if node not in visited:\n",
    "            visited.add(node)\n",
    "            bfs_traversal.append(node)\n",
    "\n",
    "\n",
    "            for neighbor in graph[node]:\n",
    "                if neighbor not in visited:\n",
    "                    queue.append(neighbor)\n",
    "\n",
    "    return bfs_traversal\n",
    "\n",
    "def dfs(graph, start, visited=None):\n",
    "    if visited is None:\n",
    "        visited = set()\n",
    "    visited.add(start)\n",
    "    dfs_traversal = [start]\n",
    "\n",
    "\n",
    "    for neighbor in graph[start]:\n",
    "        if neighbor not in visited:\n",
    "            dfs_traversal.extend(dfs(graph, neighbor, visited))\n",
    "\n",
    "    return dfs_traversal\n",
    "\n",
    "def main():\n",
    "\n",
    "    n = int(input(\"Enter the number of nodes in the graph: \"))\n",
    "    graph = {}\n",
    "\n",
    "    print(\"Enter the connected nodes for each node (space-separated):\")\n",
    "    for i in range(n):\n",
    "        connections = input(f\"Node {i}: \").split()\n",
    "        graph[i] = [int(node) for node in connections]\n",
    "\n",
    "\n",
    "    start_node = int(input(\"Enter the starting node for BFS and DFS: \"))\n",
    "\n",
    "    bfs_result = bfs(graph, start_node)\n",
    "    dfs_result = dfs(graph, start_node)\n",
    "    \n",
    "    print(\"BFS Traversal:\", bfs_result)\n",
    "    print(\"DFS Traversal:\", dfs_result)\n",
    "\n",
    "if __name__ == \"__main__\":\n",
    "    main()\n"
   ]
  },
  {
   "cell_type": "code",
   "execution_count": null,
   "metadata": {},
   "outputs": [],
   "source": []
  }
 ],
 "metadata": {
  "colab": {
   "provenance": []
  },
  "kernelspec": {
   "display_name": "Python 3 (ipykernel)",
   "language": "python",
   "name": "python3"
  },
  "language_info": {
   "codemirror_mode": {
    "name": "ipython",
    "version": 3
   },
   "file_extension": ".py",
   "mimetype": "text/x-python",
   "name": "python",
   "nbconvert_exporter": "python",
   "pygments_lexer": "ipython3",
   "version": "3.12.7"
  }
 },
 "nbformat": 4,
 "nbformat_minor": 4
}
