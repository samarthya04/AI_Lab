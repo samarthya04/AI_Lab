{
  "nbformat": 4,
  "nbformat_minor": 0,
  "metadata": {
    "colab": {
      "provenance": [],
      "authorship_tag": "ABX9TyPNCHMJyv9uVH7/vR/QxKcY",
      "include_colab_link": true
    },
    "kernelspec": {
      "name": "python3",
      "display_name": "Python 3"
    },
    "language_info": {
      "name": "python"
    }
  },
  "cells": [
    {
      "cell_type": "markdown",
      "metadata": {
        "id": "view-in-github",
        "colab_type": "text"
      },
      "source": [
        "<a href=\"https://colab.research.google.com/github/samarthya04/AI_Lab/blob/main/lab7_2205498.ipynb\" target=\"_parent\"><img src=\"https://colab.research.google.com/assets/colab-badge.svg\" alt=\"Open In Colab\"/></a>"
      ]
    },
    {
      "cell_type": "markdown",
      "source": [
        "**Assignment 7:** Game AI Using Search Algorithms\n",
        "\n",
        "Objective: Implement AI to solve a simple turn-based game.\n",
        "\n",
        "Problem Statement: Design an AI agent to play a game (e.g., Tic-Tac-Toe or Snakeand Ladder) using search algorithms.\n",
        "\n",
        "Tasks:\n",
        "- Use BFS and DFS for exploring game states.\n",
        "- Implement A* Search with a heuristic function to improve efficiency.\n",
        "- Compare search strategies for different game board configurations."
      ],
      "metadata": {
        "id": "aJ1N7Pn-SEI5"
      }
    },
    {
      "cell_type": "code",
      "source": [
        "import heapq\n",
        "from collections import deque"
      ],
      "metadata": {
        "id": "zb7QG-RnU25P"
      },
      "execution_count": 1,
      "outputs": []
    },
    {
      "cell_type": "code",
      "source": [
        "class TicTacToe:\n",
        "    def __init__(self):\n",
        "        self.board = [' ' for _ in range(9)]\n",
        "        self.current_winner = None\n",
        "\n",
        "    def print_board(self):\n",
        "        for row in [self.board[i * 3:(i + 1) * 3] for i in range(3)]:\n",
        "            print('| ' + ' | '.join(row) + ' |')\n",
        "        print('\\n')\n",
        "\n",
        "    def available_moves(self):\n",
        "        return [i for i in range(9) if self.board[i] == ' ']\n",
        "\n",
        "    def make_move(self, square, player):\n",
        "        if self.board[square] == ' ':\n",
        "            self.board[square] = player\n",
        "            if self.winner(square, player):\n",
        "                self.current_winner = player\n",
        "            return True\n",
        "        return False\n",
        "\n",
        "    def winner(self, square, player):\n",
        "        row_ind = square // 3\n",
        "        row = self.board[row_ind * 3:(row_ind + 1) * 3]\n",
        "        if all(s == player for s in row):\n",
        "            return True\n",
        "\n",
        "        col_ind = square % 3\n",
        "        col = [self.board[col_ind + i * 3] for i in range(3)]\n",
        "        if all(s == player for s in col):\n",
        "            return True\n",
        "\n",
        "        if square % 2 == 0:\n",
        "            diagonal1 = [self.board[i] for i in [0, 4, 8]]\n",
        "            if all(s == player for s in diagonal1):\n",
        "                return True\n",
        "            diagonal2 = [self.board[i] for i in [2, 4, 6]]\n",
        "            if all(s == player for s in diagonal2):\n",
        "                return True\n",
        "\n",
        "        return False\n",
        "\n",
        "    def is_full(self):\n",
        "        return ' ' not in self.board"
      ],
      "metadata": {
        "id": "eWwkUyoVci97"
      },
      "execution_count": 2,
      "outputs": []
    },
    {
      "cell_type": "code",
      "source": [
        "def bfs_search(game, player):\n",
        "    queue = deque([(game.board[:], player)])\n",
        "    while queue:\n",
        "        board, current_player = queue.popleft()\n",
        "        for move in [i for i in range(9) if board[i] == ' ']:\n",
        "            new_board = board[:]\n",
        "            new_board[move] = current_player\n",
        "            new_game = TicTacToe()\n",
        "            new_game.board = new_board\n",
        "            if new_game.winner(move, current_player):\n",
        "                return move\n",
        "            queue.append((new_board, 'O' if current_player == 'X' else 'X'))\n",
        "    return None"
      ],
      "metadata": {
        "id": "JhVaUctucmOC"
      },
      "execution_count": 3,
      "outputs": []
    },
    {
      "cell_type": "code",
      "source": [
        "def dfs_search(game, player):\n",
        "    stack = [(game.board[:], player)]\n",
        "    while stack:\n",
        "        board, current_player = stack.pop()\n",
        "        for move in [i for i in range(9) if board[i] == ' ']:\n",
        "            new_board = board[:]\n",
        "            new_board[move] = current_player\n",
        "            new_game = TicTacToe()\n",
        "            new_game.board = new_board\n",
        "            if new_game.winner(move, current_player):\n",
        "                return move\n",
        "            stack.append((new_board, 'O' if current_player == 'X' else 'X'))\n",
        "    return None"
      ],
      "metadata": {
        "id": "f4bibJQZcpXD"
      },
      "execution_count": 4,
      "outputs": []
    },
    {
      "cell_type": "code",
      "source": [
        "def heuristic(game, player):\n",
        "    return game.board.count(player) - game.board.count('O' if player == 'X' else 'X')"
      ],
      "metadata": {
        "id": "gEqyrajKcqnP"
      },
      "execution_count": 5,
      "outputs": []
    },
    {
      "cell_type": "code",
      "source": [
        "def a_star_search(game, player):\n",
        "    pq = []\n",
        "    heapq.heappush(pq, (0, game.board[:], player))\n",
        "    while pq:\n",
        "        _, board, current_player = heapq.heappop(pq)\n",
        "        for move in [i for i in range(9) if board[i] == ' ']:\n",
        "            new_board = board[:]\n",
        "            new_board[move] = current_player\n",
        "            new_game = TicTacToe()\n",
        "            new_game.board = new_board\n",
        "            if new_game.winner(move, current_player):\n",
        "                return move\n",
        "            score = heuristic(new_game, current_player)\n",
        "            heapq.heappush(pq, (score, new_board, 'O' if current_player == 'X' else 'X'))\n",
        "    return None"
      ],
      "metadata": {
        "id": "6HjfBKkWcspl"
      },
      "execution_count": 6,
      "outputs": []
    },
    {
      "cell_type": "code",
      "source": [
        "game = TicTacToe()\n",
        "player = 'X'\n",
        "while not game.is_full() and game.current_winner is None:\n",
        "    game.print_board()\n",
        "    if player == 'X':\n",
        "        move = int(input(\"Enter your move (0-8): \"))\n",
        "    else:\n",
        "        move = a_star_search(game, player)\n",
        "        print(f\"AI chooses move {move}\")\n",
        "    if game.make_move(move, player):\n",
        "        player = 'O' if player == 'X' else 'X'\n",
        "    else:\n",
        "        print(\"Invalid move. Try again.\")\n",
        "game.print_board()\n",
        "if game.current_winner:\n",
        "    print(f\"{game.current_winner} wins!\")\n",
        "else:\n",
        "    print(\"It's a tie!\")\n"
      ],
      "metadata": {
        "colab": {
          "base_uri": "https://localhost:8080/"
        },
        "id": "uwjTyW-UcrmX",
        "outputId": "5c87a3ab-2f8c-49f0-d04e-18ff509fad0a"
      },
      "execution_count": 7,
      "outputs": [
        {
          "output_type": "stream",
          "name": "stdout",
          "text": [
            "|   |   |   |\n",
            "|   |   |   |\n",
            "|   |   |   |\n",
            "\n",
            "\n",
            "Enter your move (0-8): 4\n",
            "|   |   |   |\n",
            "|   | X |   |\n",
            "|   |   |   |\n",
            "\n",
            "\n",
            "AI chooses move 0\n",
            "| O |   |   |\n",
            "|   | X |   |\n",
            "|   |   |   |\n",
            "\n",
            "\n",
            "Enter your move (0-8): 8\n",
            "| O |   |   |\n",
            "|   | X |   |\n",
            "|   |   | X |\n",
            "\n",
            "\n",
            "AI chooses move 3\n",
            "| O |   |   |\n",
            "| O | X |   |\n",
            "|   |   | X |\n",
            "\n",
            "\n",
            "Enter your move (0-8): 6\n",
            "| O |   |   |\n",
            "| O | X |   |\n",
            "| X |   | X |\n",
            "\n",
            "\n",
            "AI chooses move 2\n",
            "| O |   | O |\n",
            "| O | X |   |\n",
            "| X |   | X |\n",
            "\n",
            "\n",
            "Enter your move (0-8): 7\n",
            "| O |   | O |\n",
            "| O | X |   |\n",
            "| X | X | X |\n",
            "\n",
            "\n",
            "X wins!\n"
          ]
        }
      ]
    },
    {
      "cell_type": "code",
      "source": [],
      "metadata": {
        "id": "6o7Af3bocSsA"
      },
      "execution_count": 7,
      "outputs": []
    }
  ]
}