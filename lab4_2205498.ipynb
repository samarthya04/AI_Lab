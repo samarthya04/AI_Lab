{
  "nbformat": 4,
  "nbformat_minor": 0,
  "metadata": {
    "colab": {
      "provenance": [],
      "authorship_tag": "ABX9TyMrDzavcZpO0wUGbPYKmJzj",
      "include_colab_link": true
    },
    "kernelspec": {
      "name": "python3",
      "display_name": "Python 3"
    },
    "language_info": {
      "name": "python"
    }
  },
  "cells": [
    {
      "cell_type": "markdown",
      "metadata": {
        "id": "view-in-github",
        "colab_type": "text"
      },
      "source": [
        "<a href=\"https://colab.research.google.com/github/samarthya04/AI_Lab/blob/main/lab4_2205498.ipynb\" target=\"_parent\"><img src=\"https://colab.research.google.com/assets/colab-badge.svg\" alt=\"Open In Colab\"/></a>"
      ]
    },
    {
      "cell_type": "markdown",
      "source": [
        "**Assignment 3:** Search for Treasure using the Best-First Search\n",
        "\n",
        "Objective: Use Best-First Search to find a treasure in a grid.\n",
        "\n",
        "Problem Statement: The treasure is hidden in a grid, and each cell has a heuristicvalue representing its \"closeness\" to the treasure. Implement Best-First Searchtolocate the treasure.\n",
        "\n",
        "Tasks:\n",
        "- Use Manhattan distance as a heuristic.\n",
        "- Implement the algorithm to always move to the most promising cell first\n",
        "(minimum heuristic value).\n",
        "- Analyze how heuristic choice affects performance."
      ],
      "metadata": {
        "id": "3jq2zt7JUcQm"
      }
    },
    {
      "cell_type": "code",
      "source": [
        "import heapq"
      ],
      "metadata": {
        "id": "BLYAvYJXbnPn"
      },
      "execution_count": 10,
      "outputs": []
    },
    {
      "cell_type": "code",
      "source": [
        "def manhattan_distance(x1, y1, x2, y2):\n",
        "    return abs(x1 - x2) + abs(y1 - y2)"
      ],
      "metadata": {
        "id": "9h6GU7zHKaDx"
      },
      "execution_count": 11,
      "outputs": []
    },
    {
      "cell_type": "code",
      "source": [
        "def best_first_search(grid, start, goal):\n",
        "    rows, cols = len(grid), len(grid[0])\n",
        "    visited = set()\n",
        "    queue = [(manhattan_distance(start[0], start[1], goal[0], goal[1]), start, [])]\n",
        "\n",
        "    while queue:\n",
        "        _, (x, y), path = heapq.heappop(queue)\n",
        "\n",
        "        if (x, y) == goal:\n",
        "            return path + [(x, y)]\n",
        "\n",
        "        if (x, y) in visited:\n",
        "            continue\n",
        "\n",
        "        visited.add((x, y))\n",
        "\n",
        "        for dx, dy in [(-1, 0), (1, 0), (0, -1), (0, 1)]:\n",
        "            nx, ny = x + dx, y + dy\n",
        "            if 0 <= nx < rows and 0 <= ny < cols and grid[nx][ny] != 1 and (nx, ny) not in visited:\n",
        "                new_path = path + [(x, y)]\n",
        "                heapq.heappush(queue, (manhattan_distance(nx, ny, goal[0], goal[1]), (nx, ny), new_path))\n",
        "\n",
        "    return None"
      ],
      "metadata": {
        "id": "LnH6MQf7KcXd"
      },
      "execution_count": 12,
      "outputs": []
    },
    {
      "cell_type": "code",
      "source": [
        "grid = [\n",
        "    [0, 0, 0, 0, 0],\n",
        "    [0, 1, 1, 0, 0],\n",
        "    [0, 0, 0, 0, 0],\n",
        "    [0, 1, 1, 1, 0],\n",
        "    [0, 0, 0, 0, 0]\n",
        "]\n",
        "\n",
        "start = (0, 0)\n",
        "goal = (4, 4)\n",
        "\n",
        "path = best_first_search(grid, start, goal)\n",
        "if path:\n",
        "    print(\"Treasure path found:\", path)\n",
        "else:\n",
        "    print(\"No path to the treasure found\")"
      ],
      "metadata": {
        "colab": {
          "base_uri": "https://localhost:8080/"
        },
        "id": "NbcFwWZUKfwz",
        "outputId": "90590242-6ae3-468a-ed5f-16951d2b7bc4"
      },
      "execution_count": 14,
      "outputs": [
        {
          "output_type": "stream",
          "name": "stdout",
          "text": [
            "Treasure path found: [(0, 0), (0, 1), (0, 2), (0, 3), (0, 4), (1, 4), (2, 4), (3, 4), (4, 4)]\n"
          ]
        }
      ]
    },
    {
      "cell_type": "code",
      "source": [],
      "metadata": {
        "id": "enlvG7UxKjno"
      },
      "execution_count": 13,
      "outputs": []
    }
  ]
}