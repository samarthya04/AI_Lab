{
  "nbformat": 4,
  "nbformat_minor": 0,
  "metadata": {
    "colab": {
      "provenance": [],
      "authorship_tag": "ABX9TyNXrtYKTr0jOqIhv4xvatT6",
      "include_colab_link": true
    },
    "kernelspec": {
      "name": "python3",
      "display_name": "Python 3"
    },
    "language_info": {
      "name": "python"
    }
  },
  "cells": [
    {
      "cell_type": "markdown",
      "metadata": {
        "id": "view-in-github",
        "colab_type": "text"
      },
      "source": [
        "<a href=\"https://colab.research.google.com/github/samarthya04/AI_Lab/blob/main/lab2_2205498.ipynb\" target=\"_parent\"><img src=\"https://colab.research.google.com/assets/colab-badge.svg\" alt=\"Open In Colab\"/></a>"
      ]
    },
    {
      "cell_type": "code",
      "execution_count": 1,
      "metadata": {
        "id": "xvilN1gVKJu7"
      },
      "outputs": [],
      "source": [
        "import numpy as np\n",
        "from collections import deque"
      ]
    },
    {
      "cell_type": "code",
      "source": [
        "rows = int(input(\"Enter no. of rows: \"))\n",
        "cols = int(input(\"Enter no. of columns: \"))\n",
        "maze = [[0 for _ in range(cols)] for _ in range(rows)]\n",
        "print(\"Update the maze \\n0: Wall \\n1: Walkable Path\")"
      ],
      "metadata": {
        "colab": {
          "base_uri": "https://localhost:8080/"
        },
        "id": "aGS3fbLlKZsa",
        "outputId": "d715b8bb-272c-41dc-ffd7-4beb96dcbade"
      },
      "execution_count": 2,
      "outputs": [
        {
          "output_type": "stream",
          "name": "stdout",
          "text": [
            "Enter no. of rows: 3\n",
            "Enter no. of columns: 3\n",
            "Update the maze \n",
            "0: Wall \n",
            "1: Walkable Path\n"
          ]
        }
      ]
    },
    {
      "cell_type": "code",
      "source": [
        "for i in range(rows):\n",
        "    for j in range(cols):\n",
        "        print(f\"Element ({i}, {j}): \")\n",
        "        maze[i][j] = int(input())\n",
        "\n",
        "print(\"Maze:\")\n",
        "for row in maze:\n",
        "    print(row)"
      ],
      "metadata": {
        "colab": {
          "base_uri": "https://localhost:8080/"
        },
        "id": "PMcZ13phLKPO",
        "outputId": "172350a0-1f2c-4085-b130-c2b37aba07ab"
      },
      "execution_count": 3,
      "outputs": [
        {
          "output_type": "stream",
          "name": "stdout",
          "text": [
            "Element (0, 0): \n",
            "1\n",
            "Element (0, 1): \n",
            "1\n",
            "Element (0, 2): \n",
            "1\n",
            "Element (1, 0): \n",
            "0\n",
            "Element (1, 1): \n",
            "1\n",
            "Element (1, 2): \n",
            "1\n",
            "Element (2, 0): \n",
            "1\n",
            "Element (2, 1): \n",
            "1\n",
            "Element (2, 2): \n",
            "0\n",
            "Maze:\n",
            "[1, 1, 1]\n",
            "[0, 1, 1]\n",
            "[1, 1, 0]\n"
          ]
        }
      ]
    },
    {
      "cell_type": "code",
      "source": [
        "start = (0,0)\n",
        "end = (2,0)"
      ],
      "metadata": {
        "id": "0Q6UpkAubN53"
      },
      "execution_count": 12,
      "outputs": []
    },
    {
      "cell_type": "code",
      "source": [
        "def bfs(maze, start, end):\n",
        "    rows, cols = len(maze), len(maze[0])\n",
        "    queue = deque([(start, [start])])\n",
        "    visited = set()\n",
        "    nodes_explored = 0\n",
        "\n",
        "    while queue:\n",
        "        (row, col), path = queue.popleft()\n",
        "        nodes_explored += 1\n",
        "\n",
        "        if (row, col) == end:\n",
        "            return path, nodes_explored\n",
        "\n",
        "        if (row, col) in visited:\n",
        "            continue\n",
        "        visited.add((row, col))\n",
        "\n",
        "        for dr, dc in [(-1, 0), (1, 0), (0, -1), (0, 1)]:\n",
        "            r, c = row + dr, col + dc\n",
        "            if 0 <= r < rows and 0 <= c < cols and maze[r][c] == 1 and (r, c) not in visited:\n",
        "                queue.append(((r, c), path + [(r, c)]))\n",
        "\n",
        "    return None, nodes_explored\n"
      ],
      "metadata": {
        "id": "zKYhO-fTMnuV"
      },
      "execution_count": 13,
      "outputs": []
    },
    {
      "cell_type": "code",
      "source": [
        "bfs_path, bfs_nodes = bfs(maze, start, end)"
      ],
      "metadata": {
        "id": "2nDbCIbWbX76"
      },
      "execution_count": 14,
      "outputs": []
    },
    {
      "cell_type": "code",
      "source": [
        "if bfs_path:\n",
        "    print(f\"BFS Shortest Path: {bfs_path}\")\n",
        "else:\n",
        "    print(\"BFS could not find a path.\")\n",
        "print(f\"BFS Nodes Explored: {bfs_nodes}\")"
      ],
      "metadata": {
        "colab": {
          "base_uri": "https://localhost:8080/"
        },
        "id": "FvInrRUTbdDk",
        "outputId": "1dd74770-8fed-450e-ef43-62961e59a100"
      },
      "execution_count": 15,
      "outputs": [
        {
          "output_type": "stream",
          "name": "stdout",
          "text": [
            "BFS Shortest Path: [(0, 0), (0, 1), (1, 1), (2, 1), (2, 0)]\n",
            "BFS Nodes Explored: 8\n"
          ]
        }
      ]
    },
    {
      "cell_type": "code",
      "source": [],
      "metadata": {
        "id": "1w9ouAa0b126"
      },
      "execution_count": 7,
      "outputs": []
    }
  ]
}