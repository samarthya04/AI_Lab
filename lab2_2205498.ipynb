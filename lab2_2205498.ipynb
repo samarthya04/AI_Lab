{
  "nbformat": 4,
  "nbformat_minor": 0,
  "metadata": {
    "colab": {
      "provenance": [],
      "authorship_tag": "ABX9TyNEtfKVyL33k2N1fm/O1Iyb",
      "include_colab_link": true
    },
    "kernelspec": {
      "name": "python3",
      "display_name": "Python 3"
    },
    "language_info": {
      "name": "python"
    }
  },
  "cells": [
    {
      "cell_type": "markdown",
      "metadata": {
        "id": "view-in-github",
        "colab_type": "text"
      },
      "source": [
        "<a href=\"https://colab.research.google.com/github/samarthya04/AI_Lab/blob/main/lab2_2205498.ipynb\" target=\"_parent\"><img src=\"https://colab.research.google.com/assets/colab-badge.svg\" alt=\"Open In Colab\"/></a>"
      ]
    },
    {
      "cell_type": "code",
      "execution_count": 1,
      "metadata": {
        "id": "xvilN1gVKJu7"
      },
      "outputs": [],
      "source": [
        "import numpy as np\n",
        "from collections import deque"
      ]
    },
    {
      "cell_type": "code",
      "source": [
        "rows = int(input(\"Enter no. of rows: \"))\n",
        "cols = int(input(\"Enter no. of columns: \"))\n",
        "maze = [[0 for _ in range(cols)] for _ in range(rows)]\n",
        "print(\"Update the maze \\n0: Wall \\n1: Walkable Path\")"
      ],
      "metadata": {
        "colab": {
          "base_uri": "https://localhost:8080/"
        },
        "id": "aGS3fbLlKZsa",
        "outputId": "029f1001-24e2-4446-b3fa-45a1047d3909"
      },
      "execution_count": 2,
      "outputs": [
        {
          "output_type": "stream",
          "name": "stdout",
          "text": [
            "Enter no. of rows: 3\n",
            "Enter no. of columns: 3\n",
            "Update the maze \n",
            "0: Wall \n",
            "1: Walkable Path\n"
          ]
        }
      ]
    },
    {
      "cell_type": "code",
      "source": [
        "for i in range(rows):\n",
        "    for j in range(cols):\n",
        "        print(f\"Element ({i}, {j}): \")\n",
        "        maze[i][j] = int(input())\n",
        "\n",
        "print(\"Maze:\")\n",
        "for row in maze:\n",
        "    print(row)"
      ],
      "metadata": {
        "colab": {
          "base_uri": "https://localhost:8080/"
        },
        "id": "PMcZ13phLKPO",
        "outputId": "667d1ed4-9700-4da7-b537-a6741726f5ac"
      },
      "execution_count": 3,
      "outputs": [
        {
          "output_type": "stream",
          "name": "stdout",
          "text": [
            "Element (0, 0): \n",
            "1\n",
            "Element (0, 1): \n",
            "1\n",
            "Element (0, 2): \n",
            "1\n",
            "Element (1, 0): \n",
            "0\n",
            "Element (1, 1): \n",
            "1\n",
            "Element (1, 2): \n",
            "1\n",
            "Element (2, 0): \n",
            "1\n",
            "Element (2, 1): \n",
            "1\n",
            "Element (2, 2): \n",
            "0\n",
            "Maze:\n",
            "[1, 1, 1]\n",
            "[0, 1, 1]\n",
            "[1, 1, 0]\n"
          ]
        }
      ]
    },
    {
      "cell_type": "code",
      "source": [
        "start = tuple(map(int, input(\"Enter start cell (row, col): \").split(',')))\n",
        "end = tuple(map(int, input(\"Enter end cell (row, col): \").split(',')))"
      ],
      "metadata": {
        "colab": {
          "base_uri": "https://localhost:8080/"
        },
        "id": "0Q6UpkAubN53",
        "outputId": "782e73fe-a916-4781-c381-ee90fe246594"
      },
      "execution_count": 4,
      "outputs": [
        {
          "name": "stdout",
          "output_type": "stream",
          "text": [
            "Enter start cell (row, col): 0,0\n",
            "Enter end cell (row, col): 2,0\n"
          ]
        }
      ]
    },
    {
      "cell_type": "code",
      "source": [
        "def bfs(maze, start, end):\n",
        "    rows, cols = len(maze), len(maze[0])\n",
        "    queue = deque([(start, [start])])\n",
        "    visited = set()\n",
        "    nodes_explored = 0\n",
        "\n",
        "    while queue:\n",
        "        (row, col), path = queue.popleft()\n",
        "        nodes_explored += 1\n",
        "\n",
        "        if (row, col) == end:\n",
        "            return path, nodes_explored\n",
        "\n",
        "        if (row, col) in visited:\n",
        "            continue\n",
        "        visited.add((row, col))\n",
        "\n",
        "        # Explore neighbors\n",
        "        for dr, dc in [(-1, 0), (1, 0), (0, -1), (0, 1)]:\n",
        "            r, c = row + dr, col + dc\n",
        "            if 0 <= r < rows and 0 <= c < cols and maze[r][c] == 1 and (r, c) not in visited:\n",
        "                queue.append(((r, c), path + [(r, c)]))\n",
        "\n",
        "    return None, nodes_explored\n"
      ],
      "metadata": {
        "id": "zKYhO-fTMnuV"
      },
      "execution_count": 5,
      "outputs": []
    },
    {
      "cell_type": "code",
      "source": [
        "bfs_path, bfs_nodes = bfs(maze, start, end)"
      ],
      "metadata": {
        "id": "2nDbCIbWbX76"
      },
      "execution_count": 6,
      "outputs": []
    },
    {
      "cell_type": "code",
      "source": [
        "if bfs_path:\n",
        "    print(f\"BFS Shortest Path: {bfs_path}\")\n",
        "else:\n",
        "    print(\"BFS could not find a path.\")\n",
        "print(f\"BFS Nodes Explored: {bfs_nodes}\")"
      ],
      "metadata": {
        "colab": {
          "base_uri": "https://localhost:8080/"
        },
        "id": "FvInrRUTbdDk",
        "outputId": "f0a157ec-fca8-4193-c1b1-10002043855f"
      },
      "execution_count": 7,
      "outputs": [
        {
          "output_type": "stream",
          "name": "stdout",
          "text": [
            "BFS Shortest Path: [(0, 0), (0, 1), (1, 1), (2, 1), (2, 0)]\n",
            "BFS Nodes Explored: 8\n"
          ]
        }
      ]
    },
    {
      "cell_type": "code",
      "source": [
        "def dfs(maze, start, end):\n",
        "    rows, cols = len(maze), len(maze[0])\n",
        "    stack = [(start, [start])]\n",
        "    visited = set()\n",
        "    nodes_explored = 0\n",
        "\n",
        "    while stack:\n",
        "        (row, col), path = stack.pop()\n",
        "        nodes_explored += 1\n",
        "\n",
        "        if (row, col) == end:\n",
        "            return path, nodes_explored\n",
        "\n",
        "        if (row, col) in visited:\n",
        "            continue\n",
        "        visited.add((row, col))\n",
        "\n",
        "        # Explore neighbors\n",
        "        for dr, dc in [(-1, 0), (1, 0), (0, -1), (0, 1)]:\n",
        "            r, c = row + dr, col + dc\n",
        "            if 0 <= r < rows and 0 <= c < cols and maze[r][c] == 1 and (r, c) not in visited:\n",
        "                stack.append(((r, c), path + [(r, c)]))\n",
        "\n",
        "    return None, nodes_explored\n"
      ],
      "metadata": {
        "id": "tWh1takobiDf"
      },
      "execution_count": 8,
      "outputs": []
    },
    {
      "cell_type": "code",
      "source": [
        "dfs_path, dfs_nodes = dfs(maze, start, end)"
      ],
      "metadata": {
        "id": "74i-UKOybroe"
      },
      "execution_count": 9,
      "outputs": []
    },
    {
      "cell_type": "code",
      "source": [
        "if dfs_path:\n",
        "    print(f\"DFS Path: {dfs_path}\")\n",
        "else:\n",
        "    print(\"DFS could not find a path.\")\n",
        "print(f\"DFS Nodes Explored: {dfs_nodes}\")"
      ],
      "metadata": {
        "colab": {
          "base_uri": "https://localhost:8080/"
        },
        "id": "bOFPi4UHbye_",
        "outputId": "f89e59be-d441-460b-e906-232bdd259884"
      },
      "execution_count": 10,
      "outputs": [
        {
          "output_type": "stream",
          "name": "stdout",
          "text": [
            "DFS Path: [(0, 0), (0, 1), (0, 2), (1, 2), (1, 1), (2, 1), (2, 0)]\n",
            "DFS Nodes Explored: 7\n"
          ]
        }
      ]
    },
    {
      "cell_type": "code",
      "source": [],
      "metadata": {
        "id": "1w9ouAa0b126"
      },
      "execution_count": null,
      "outputs": []
    }
  ]
}