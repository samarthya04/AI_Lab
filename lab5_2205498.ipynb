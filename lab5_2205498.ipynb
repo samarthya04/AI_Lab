{
  "nbformat": 4,
  "nbformat_minor": 0,
  "metadata": {
    "colab": {
      "provenance": [],
      "authorship_tag": "ABX9TyOQBjTV2dqbHBTcwQ5uqr18",
      "include_colab_link": true
    },
    "kernelspec": {
      "name": "python3",
      "display_name": "Python 3"
    },
    "language_info": {
      "name": "python"
    }
  },
  "cells": [
    {
      "cell_type": "markdown",
      "metadata": {
        "id": "view-in-github",
        "colab_type": "text"
      },
      "source": [
        "<a href=\"https://colab.research.google.com/github/samarthya04/AI_Lab/blob/main/lab5_2205498.ipynb\" target=\"_parent\"><img src=\"https://colab.research.google.com/assets/colab-badge.svg\" alt=\"Open In Colab\"/></a>"
      ]
    },
    {
      "cell_type": "markdown",
      "source": [
        "# Evaluation Questions"
      ],
      "metadata": {
        "id": "xaMJwkDwTCa7"
      }
    },
    {
      "cell_type": "markdown",
      "source": [
        "1. Swap two elements in a list"
      ],
      "metadata": {
        "id": "orWVYwIkQZOx"
      }
    },
    {
      "cell_type": "code",
      "execution_count": 16,
      "metadata": {
        "colab": {
          "base_uri": "https://localhost:8080/"
        },
        "id": "1KgDMUSSOXdv",
        "outputId": "20c4d511-20d7-4e3d-bb80-189a3665553b"
      },
      "outputs": [
        {
          "output_type": "stream",
          "name": "stdout",
          "text": [
            "[1, 4, 3, 2, 5]\n"
          ]
        }
      ],
      "source": [
        "def swap_elements(l, pos1, pos2):\n",
        "  l[pos1], l[pos2] = l[pos2], l[pos1]\n",
        "  return l\n",
        "\n",
        "my_list = [1, 2, 3, 4, 5]\n",
        "print(swap_elements(my_list, 1, 3))"
      ]
    },
    {
      "cell_type": "markdown",
      "source": [
        "2. Find the length of a list"
      ],
      "metadata": {
        "id": "yFRKNGuNQdgs"
      }
    },
    {
      "cell_type": "code",
      "source": [
        "my_list = [1, 2, 3, 4, 5]\n",
        "length = len(my_list)\n",
        "print(f\"Length: {length}\")"
      ],
      "metadata": {
        "colab": {
          "base_uri": "https://localhost:8080/"
        },
        "id": "FtiZ9DJbQBHE",
        "outputId": "84a484ad-1218-4349-e6c9-a8c9e927ec19"
      },
      "execution_count": 17,
      "outputs": [
        {
          "output_type": "stream",
          "name": "stdout",
          "text": [
            "Length: 5\n"
          ]
        }
      ]
    },
    {
      "cell_type": "markdown",
      "source": [
        "3. Check if element exists in a list"
      ],
      "metadata": {
        "id": "1Qh_wDuJQiUF"
      }
    },
    {
      "cell_type": "code",
      "source": [
        "my_list = [1, 2, 3, 4, 5]\n",
        "element = 3\n",
        "if element in my_list:\n",
        "  print(f\"{element} exists in the list\")"
      ],
      "metadata": {
        "colab": {
          "base_uri": "https://localhost:8080/"
        },
        "id": "p7dUeMpjQPwI",
        "outputId": "e4211da9-1f0d-42f8-97d0-07c759ef8a43"
      },
      "execution_count": 18,
      "outputs": [
        {
          "output_type": "stream",
          "name": "stdout",
          "text": [
            "3 exists in the list\n"
          ]
        }
      ]
    },
    {
      "cell_type": "markdown",
      "source": [
        "4. Clear a list"
      ],
      "metadata": {
        "id": "hZ0Px9gBQ1hi"
      }
    },
    {
      "cell_type": "code",
      "source": [
        "my_list = []"
      ],
      "metadata": {
        "id": "YYbbLhBUQtyr"
      },
      "execution_count": 19,
      "outputs": []
    },
    {
      "cell_type": "code",
      "source": [
        "my_list.clear()"
      ],
      "metadata": {
        "id": "8jYapaB_Q74Z"
      },
      "execution_count": 20,
      "outputs": []
    },
    {
      "cell_type": "markdown",
      "source": [
        "5. Reversing a list"
      ],
      "metadata": {
        "id": "Wr2yHd_nRE5s"
      }
    },
    {
      "cell_type": "code",
      "source": [
        "my_list = [1, 2, 3, 4, 5]\n",
        "my_list.reverse()\n",
        "print(my_list)"
      ],
      "metadata": {
        "colab": {
          "base_uri": "https://localhost:8080/"
        },
        "id": "YVMaHyC1Q_nS",
        "outputId": "0ad657c5-f12f-4431-86c3-99297228efd3"
      },
      "execution_count": 21,
      "outputs": [
        {
          "output_type": "stream",
          "name": "stdout",
          "text": [
            "[5, 4, 3, 2, 1]\n"
          ]
        }
      ]
    },
    {
      "cell_type": "markdown",
      "source": [
        "6. Find sum of elements in a list"
      ],
      "metadata": {
        "id": "cEln6GV2Ranm"
      }
    },
    {
      "cell_type": "code",
      "source": [
        "my_list = [1, 2, 3, 4, 5]\n",
        "sum = 0\n",
        "for element in my_list:\n",
        "  sum += element\n",
        "print(f\"Sum: {sum}\")"
      ],
      "metadata": {
        "colab": {
          "base_uri": "https://localhost:8080/"
        },
        "id": "vbZo9_9YRRYk",
        "outputId": "41ff24ab-1d1e-477f-e41f-e66013cb005f"
      },
      "execution_count": 22,
      "outputs": [
        {
          "output_type": "stream",
          "name": "stdout",
          "text": [
            "Sum: 15\n"
          ]
        }
      ]
    },
    {
      "cell_type": "markdown",
      "source": [
        "7. Multiply all number in a list"
      ],
      "metadata": {
        "id": "dzOk7NgXRo-9"
      }
    },
    {
      "cell_type": "code",
      "source": [
        "my_list = [1, 2, 3, 4, 5]\n",
        "prod = 1\n",
        "for element in my_list:\n",
        "  prod *= element\n",
        "print(f\"Product: {prod}\")"
      ],
      "metadata": {
        "colab": {
          "base_uri": "https://localhost:8080/"
        },
        "id": "zjxFvZyYRhzK",
        "outputId": "42dc022c-2820-40af-9d7c-f166c7af7b77"
      },
      "execution_count": 23,
      "outputs": [
        {
          "output_type": "stream",
          "name": "stdout",
          "text": [
            "Product: 120\n"
          ]
        }
      ]
    },
    {
      "cell_type": "markdown",
      "source": [
        "8. Find smallest number in a list"
      ],
      "metadata": {
        "id": "vfBip6mgR7ul"
      }
    },
    {
      "cell_type": "code",
      "source": [
        "my_list = [54, 23, 87, 12, 45]\n",
        "min = my_list[0]\n",
        "for element in my_list:\n",
        "  if element < min:\n",
        "    min = element\n",
        "print(f\"Smallest number: {min}\")"
      ],
      "metadata": {
        "colab": {
          "base_uri": "https://localhost:8080/"
        },
        "id": "pHiIio2PR3bm",
        "outputId": "ec726f46-c983-469d-f7b9-bdd9ac5ac998"
      },
      "execution_count": 24,
      "outputs": [
        {
          "output_type": "stream",
          "name": "stdout",
          "text": [
            "Smallest number: 12\n"
          ]
        }
      ]
    },
    {
      "cell_type": "markdown",
      "source": [
        "9. Find largest number in a list"
      ],
      "metadata": {
        "id": "KYLh3V6lSJoX"
      }
    },
    {
      "cell_type": "code",
      "source": [
        "my_list = [54, 23, 87, 12, 45]\n",
        "max = my_list[0]\n",
        "for element in my_list:\n",
        "  if element > max:\n",
        "    max = element\n",
        "print(f\"Largest number: {max}\")"
      ],
      "metadata": {
        "colab": {
          "base_uri": "https://localhost:8080/"
        },
        "id": "4QPxF4wtSD8t",
        "outputId": "6ea7021f-136f-4569-d5dd-db114adc3f01"
      },
      "execution_count": 25,
      "outputs": [
        {
          "output_type": "stream",
          "name": "stdout",
          "text": [
            "Largest number: 87\n"
          ]
        }
      ]
    },
    {
      "cell_type": "markdown",
      "source": [
        "10. Find the second largest number in the list"
      ],
      "metadata": {
        "id": "28OPx2NqSVjq"
      }
    },
    {
      "cell_type": "code",
      "source": [
        "my_list = [54, 23, 87, 12, 45]\n",
        "max = my_list[0]\n",
        "second_max = my_list[0]\n",
        "for element in my_list:\n",
        "  if element > max:\n",
        "    second_max = max\n",
        "    max = element\n",
        "  elif element > second_max:\n",
        "    second_max = element\n",
        "print(f\"Second largest number: {second_max}\")"
      ],
      "metadata": {
        "colab": {
          "base_uri": "https://localhost:8080/"
        },
        "id": "53iRZs8FSPaX",
        "outputId": "f9627dc3-6983-40f2-b251-f69750adea73"
      },
      "execution_count": 26,
      "outputs": [
        {
          "output_type": "stream",
          "name": "stdout",
          "text": [
            "Second largest number: 54\n"
          ]
        }
      ]
    },
    {
      "cell_type": "markdown",
      "source": [
        "# Lab Assessment"
      ],
      "metadata": {
        "id": "VVEXcl_tTI-v"
      }
    },
    {
      "cell_type": "markdown",
      "source": [
        "**Assignment 5:** A Search for a Puzzle Solver*\n",
        "\n",
        "Objective: Solve the 8-puzzle using A* search.\n",
        "\n",
        "Problem Statement: The 8-puzzle involves sliding tiles to achieve a goal state. Use A*to solve it.\n",
        "\n",
        "Tasks:\n",
        "\n",
        "Define heuristic functions:\n",
        "- H1: Number of misplaced tiles.\n",
        "- H2: Sum of Manhattan distances of all tiles from their goal positions.\n",
        "- Implement A* with both heuristics.\n",
        "- Compare the performance of the two heuristics in terms of the number of nodes\n",
        "explored and solution depth."
      ],
      "metadata": {
        "id": "MDv0Siz2ThHu"
      }
    },
    {
      "cell_type": "code",
      "source": [
        "import heapq\n",
        "import numpy as np\n",
        "from copy import deepcopy\n",
        "import builtins"
      ],
      "metadata": {
        "id": "yLsTKFGiSK0U"
      },
      "execution_count": 27,
      "outputs": []
    },
    {
      "cell_type": "code",
      "source": [
        "def get_blank_pos(board):\n",
        "    for i in range(3):\n",
        "        for j in range(3):\n",
        "            if board[i][j] == 0:\n",
        "                return i, j"
      ],
      "metadata": {
        "id": "6BHsh8fZUGYW"
      },
      "execution_count": 28,
      "outputs": []
    },
    {
      "cell_type": "code",
      "source": [
        "def generate_children(board):\n",
        "    children = []\n",
        "    x, y = get_blank_pos(board)\n",
        "    moves = [(-1, 0, 'Up'), (1, 0, 'Down'), (0, -1, 'Left'), (0, 1, 'Right')]\n",
        "\n",
        "    for dx, dy, move in moves:\n",
        "        nx, ny = x + dx, y + dy\n",
        "        if 0 <= nx < 3 and 0 <= ny < 3:\n",
        "            new_board = deepcopy(board)\n",
        "            new_board[x][y], new_board[nx][ny] = new_board[nx][ny], new_board[x][y]\n",
        "            children.append((new_board, move))\n",
        "\n",
        "    return children"
      ],
      "metadata": {
        "id": "cWd5VNrQUH29"
      },
      "execution_count": 29,
      "outputs": []
    },
    {
      "cell_type": "code",
      "source": [
        "def is_goal(board, goal):\n",
        "    return tuple(map(tuple, board)) == tuple(map(tuple, goal))"
      ],
      "metadata": {
        "id": "pfw02QqcUKj4"
      },
      "execution_count": 30,
      "outputs": []
    },
    {
      "cell_type": "code",
      "source": [
        "def get_path(parent_map, current):\n",
        "    path = []\n",
        "    while current in parent_map:\n",
        "        current, move = parent_map[current]\n",
        "        path.append(move)\n",
        "    return path[::-1]"
      ],
      "metadata": {
        "id": "FA-rnazpURN-"
      },
      "execution_count": 31,
      "outputs": []
    },
    {
      "cell_type": "code",
      "source": [
        "def manhattan_distance(state, goal):\n",
        "    distance = 0\n",
        "    for i in range(3):\n",
        "        for j in range(3):\n",
        "            value = state[i][j]\n",
        "            if value != 0:\n",
        "                target_x, target_y = divmod(value - 1, 3)\n",
        "                distance += abs(i - target_x) + abs(j - target_y)\n",
        "    return distance"
      ],
      "metadata": {
        "id": "LOpb7whBUQXS"
      },
      "execution_count": 32,
      "outputs": []
    },
    {
      "cell_type": "code",
      "source": [
        "def misplaced_tiles(state, goal):\n",
        "    return builtins.sum(1 for i in range(3) for j in range(3) if state[i][j] and state[i][j] != goal[i][j])"
      ],
      "metadata": {
        "id": "HLuQd0f8UPmZ"
      },
      "execution_count": 33,
      "outputs": []
    },
    {
      "cell_type": "code",
      "source": [
        "def a_star(start, goal, heuristic):\n",
        "    open_list = []\n",
        "    closed_set = {}\n",
        "    start_tuple = tuple(map(tuple, start))\n",
        "    goal_tuple = tuple(map(tuple, goal))\n",
        "\n",
        "    heapq.heappush(open_list, (0, 0, start_tuple))\n",
        "    parent_map = {}\n",
        "    nodes_explored = 0\n",
        "\n",
        "    while open_list:\n",
        "        _, depth, current = heapq.heappop(open_list)\n",
        "        nodes_explored += 1\n",
        "\n",
        "        if is_goal(current, goal_tuple):\n",
        "            return get_path(parent_map, current), nodes_explored, depth\n",
        "\n",
        "        if current in closed_set and closed_set[current] <= depth:\n",
        "            continue\n",
        "\n",
        "        closed_set[current] = depth\n",
        "\n",
        "        for child, move in generate_children([list(row) for row in current]):\n",
        "            child_tuple = tuple(map(tuple, child))\n",
        "            if child_tuple in closed_set and closed_set[child_tuple] <= depth + 1:\n",
        "                continue\n",
        "\n",
        "            parent_map[child_tuple] = (current, move)\n",
        "            h = heuristic(child, goal)\n",
        "            heapq.heappush(open_list, (depth + 1 + h, depth + 1, child_tuple))\n",
        "\n",
        "    return None, nodes_explored, -1"
      ],
      "metadata": {
        "id": "RJoPfN8FUN56"
      },
      "execution_count": 34,
      "outputs": []
    },
    {
      "cell_type": "code",
      "source": [
        "start_state = np.array([\n",
        "    [1, 2, 3],\n",
        "    [4, 0, 5],\n",
        "    [6, 7, 8]\n",
        "])\n",
        "goal_state = np.array([\n",
        "    [1, 2, 3],\n",
        "    [4, 5, 6],\n",
        "    [7, 8, 0]\n",
        "])\n",
        "\n",
        "path1, explored1, depth1 = a_star(start_state, goal_state, misplaced_tiles)\n",
        "path2, explored2, depth2 = a_star(start_state, goal_state, manhattan_distance)\n",
        "\n",
        "print(\"Using Misplaced Tiles:\")\n",
        "print(\"Solution Path:\", path1)\n",
        "print(\"Nodes Explored:\", explored1)\n",
        "print(\"Solution Depth:\", depth1)\n",
        "\n",
        "print(\"\\nUsing Manhattan Distance:\")\n",
        "print(\"Solution Path:\", path2)\n",
        "print(\"Nodes Explored:\", explored2)\n",
        "print(\"Solution Depth:\", depth2)\n"
      ],
      "metadata": {
        "colab": {
          "base_uri": "https://localhost:8080/"
        },
        "id": "lfHk2Pa9UMZx",
        "outputId": "f792becc-6a80-48a1-ed4d-d363d279a96e"
      },
      "execution_count": 35,
      "outputs": [
        {
          "output_type": "stream",
          "name": "stdout",
          "text": [
            "Using Misplaced Tiles:\n",
            "Solution Path: ['Right', 'Down', 'Left', 'Left', 'Up', 'Right', 'Down', 'Right', 'Up', 'Left', 'Left', 'Down', 'Right', 'Right']\n",
            "Nodes Explored: 347\n",
            "Solution Depth: 14\n",
            "\n",
            "Using Manhattan Distance:\n",
            "Solution Path: ['Right', 'Down', 'Left', 'Left', 'Up', 'Right', 'Down', 'Right', 'Up', 'Left', 'Left', 'Down', 'Right', 'Right']\n",
            "Nodes Explored: 131\n",
            "Solution Depth: 14\n"
          ]
        }
      ]
    },
    {
      "cell_type": "code",
      "source": [],
      "metadata": {
        "id": "cJgCleIHEtEa"
      },
      "execution_count": 35,
      "outputs": []
    }
  ]
}