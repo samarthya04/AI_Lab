{
  "nbformat": 4,
  "nbformat_minor": 0,
  "metadata": {
    "colab": {
      "provenance": [],
      "authorship_tag": "ABX9TyPMa1RGohEFFbl1FQcC1w38",
      "include_colab_link": true
    },
    "kernelspec": {
      "name": "python3",
      "display_name": "Python 3"
    },
    "language_info": {
      "name": "python"
    }
  },
  "cells": [
    {
      "cell_type": "markdown",
      "metadata": {
        "id": "view-in-github",
        "colab_type": "text"
      },
      "source": [
        "<a href=\"https://colab.research.google.com/github/samarthya04/AI_Lab/blob/main/lab5_2205498.ipynb\" target=\"_parent\"><img src=\"https://colab.research.google.com/assets/colab-badge.svg\" alt=\"Open In Colab\"/></a>"
      ]
    },
    {
      "cell_type": "markdown",
      "source": [
        "# Evaluation Questions"
      ],
      "metadata": {
        "id": "xaMJwkDwTCa7"
      }
    },
    {
      "cell_type": "markdown",
      "source": [
        "1. Swap two elements in a list"
      ],
      "metadata": {
        "id": "orWVYwIkQZOx"
      }
    },
    {
      "cell_type": "code",
      "execution_count": 42,
      "metadata": {
        "colab": {
          "base_uri": "https://localhost:8080/"
        },
        "id": "1KgDMUSSOXdv",
        "outputId": "2ab49907-685f-4c73-afa1-dcbc20e6f26a"
      },
      "outputs": [
        {
          "output_type": "stream",
          "name": "stdout",
          "text": [
            "[1, 4, 3, 2, 5]\n"
          ]
        }
      ],
      "source": [
        "def swap_elements(l, pos1, pos2):\n",
        "  l[pos1], l[pos2] = l[pos2], l[pos1]\n",
        "  return l\n",
        "\n",
        "my_list = [1, 2, 3, 4, 5]\n",
        "print(swap_elements(my_list, 1, 3))"
      ]
    },
    {
      "cell_type": "markdown",
      "source": [
        "2. Find the length of a list"
      ],
      "metadata": {
        "id": "yFRKNGuNQdgs"
      }
    },
    {
      "cell_type": "code",
      "source": [
        "my_list = [1, 2, 3, 4, 5]\n",
        "length = len(my_list)\n",
        "print(f\"Length: {length}\")"
      ],
      "metadata": {
        "colab": {
          "base_uri": "https://localhost:8080/"
        },
        "id": "FtiZ9DJbQBHE",
        "outputId": "7cebbcc6-5344-4c9e-b326-567a74ee4a36"
      },
      "execution_count": 43,
      "outputs": [
        {
          "output_type": "stream",
          "name": "stdout",
          "text": [
            "Length: 5\n"
          ]
        }
      ]
    },
    {
      "cell_type": "markdown",
      "source": [
        "3. Check if element exists in a list"
      ],
      "metadata": {
        "id": "1Qh_wDuJQiUF"
      }
    },
    {
      "cell_type": "code",
      "source": [
        "my_list = [1, 2, 3, 4, 5]\n",
        "element = 3\n",
        "if element in my_list:\n",
        "  print(f\"{element} exists in the list\")"
      ],
      "metadata": {
        "colab": {
          "base_uri": "https://localhost:8080/"
        },
        "id": "p7dUeMpjQPwI",
        "outputId": "a7cb95ba-ee2b-4591-de3f-497f554ca0ce"
      },
      "execution_count": 44,
      "outputs": [
        {
          "output_type": "stream",
          "name": "stdout",
          "text": [
            "3 exists in the list\n"
          ]
        }
      ]
    },
    {
      "cell_type": "markdown",
      "source": [
        "4. Clear a list"
      ],
      "metadata": {
        "id": "hZ0Px9gBQ1hi"
      }
    },
    {
      "cell_type": "code",
      "source": [
        "my_list = []"
      ],
      "metadata": {
        "id": "YYbbLhBUQtyr"
      },
      "execution_count": 45,
      "outputs": []
    },
    {
      "cell_type": "code",
      "source": [
        "my_list.clear()"
      ],
      "metadata": {
        "id": "8jYapaB_Q74Z"
      },
      "execution_count": 46,
      "outputs": []
    },
    {
      "cell_type": "markdown",
      "source": [
        "5. Reversing a list"
      ],
      "metadata": {
        "id": "Wr2yHd_nRE5s"
      }
    },
    {
      "cell_type": "code",
      "source": [
        "my_list = [1, 2, 3, 4, 5]\n",
        "my_list.reverse()\n",
        "print(my_list)"
      ],
      "metadata": {
        "colab": {
          "base_uri": "https://localhost:8080/"
        },
        "id": "YVMaHyC1Q_nS",
        "outputId": "9f1b4cf0-3123-4cf4-9e64-67fd8224eac0"
      },
      "execution_count": 47,
      "outputs": [
        {
          "output_type": "stream",
          "name": "stdout",
          "text": [
            "[5, 4, 3, 2, 1]\n"
          ]
        }
      ]
    },
    {
      "cell_type": "markdown",
      "source": [
        "6. Find sum of elements in a list"
      ],
      "metadata": {
        "id": "cEln6GV2Ranm"
      }
    },
    {
      "cell_type": "code",
      "source": [
        "my_list = [1, 2, 3, 4, 5]\n",
        "sum = 0\n",
        "for element in my_list:\n",
        "  sum += element\n",
        "print(f\"Sum: {sum}\")"
      ],
      "metadata": {
        "colab": {
          "base_uri": "https://localhost:8080/"
        },
        "id": "vbZo9_9YRRYk",
        "outputId": "4b38d4a3-0c56-4248-de34-968b14863d22"
      },
      "execution_count": 48,
      "outputs": [
        {
          "output_type": "stream",
          "name": "stdout",
          "text": [
            "Sum: 15\n"
          ]
        }
      ]
    },
    {
      "cell_type": "markdown",
      "source": [
        "7. Multiply all number in a list"
      ],
      "metadata": {
        "id": "dzOk7NgXRo-9"
      }
    },
    {
      "cell_type": "code",
      "source": [
        "my_list = [1, 2, 3, 4, 5]\n",
        "prod = 1\n",
        "for element in my_list:\n",
        "  prod *= element\n",
        "print(f\"Product: {prod}\")"
      ],
      "metadata": {
        "colab": {
          "base_uri": "https://localhost:8080/"
        },
        "id": "zjxFvZyYRhzK",
        "outputId": "783e793c-a217-464d-e9ca-90a6563fdc82"
      },
      "execution_count": 49,
      "outputs": [
        {
          "output_type": "stream",
          "name": "stdout",
          "text": [
            "Product: 120\n"
          ]
        }
      ]
    },
    {
      "cell_type": "markdown",
      "source": [
        "8. Find smallest number in a list"
      ],
      "metadata": {
        "id": "vfBip6mgR7ul"
      }
    },
    {
      "cell_type": "code",
      "source": [
        "my_list = [54, 23, 87, 12, 45]\n",
        "min = my_list[0]\n",
        "for element in my_list:\n",
        "  if element < min:\n",
        "    min = element\n",
        "print(f\"Smallest number: {min}\")"
      ],
      "metadata": {
        "colab": {
          "base_uri": "https://localhost:8080/"
        },
        "id": "pHiIio2PR3bm",
        "outputId": "6d09e2b5-887b-4704-8ffd-171d277bba14"
      },
      "execution_count": 50,
      "outputs": [
        {
          "output_type": "stream",
          "name": "stdout",
          "text": [
            "Smallest number: 12\n"
          ]
        }
      ]
    },
    {
      "cell_type": "markdown",
      "source": [
        "9. Find largest number in a list"
      ],
      "metadata": {
        "id": "KYLh3V6lSJoX"
      }
    },
    {
      "cell_type": "code",
      "source": [
        "my_list = [54, 23, 87, 12, 45]\n",
        "max = my_list[0]\n",
        "for element in my_list:\n",
        "  if element > max:\n",
        "    max = element\n",
        "print(f\"Largest number: {max}\")"
      ],
      "metadata": {
        "colab": {
          "base_uri": "https://localhost:8080/"
        },
        "id": "4QPxF4wtSD8t",
        "outputId": "a0827f43-355a-455a-e218-d02bef6a6ea1"
      },
      "execution_count": 51,
      "outputs": [
        {
          "output_type": "stream",
          "name": "stdout",
          "text": [
            "Largest number: 87\n"
          ]
        }
      ]
    },
    {
      "cell_type": "markdown",
      "source": [
        "10. Find the second largest number in the list"
      ],
      "metadata": {
        "id": "28OPx2NqSVjq"
      }
    },
    {
      "cell_type": "code",
      "source": [
        "my_list = [54, 23, 87, 12, 45]\n",
        "max = my_list[0]\n",
        "second_max = my_list[0]\n",
        "for element in my_list:\n",
        "  if element > max:\n",
        "    second_max = max\n",
        "    max = element\n",
        "  elif element > second_max:\n",
        "    second_max = element\n",
        "print(f\"Second largest number: {second_max}\")"
      ],
      "metadata": {
        "colab": {
          "base_uri": "https://localhost:8080/"
        },
        "id": "53iRZs8FSPaX",
        "outputId": "b24ae329-46a6-4aba-a6b9-b4d717b42edf"
      },
      "execution_count": 52,
      "outputs": [
        {
          "output_type": "stream",
          "name": "stdout",
          "text": [
            "Second largest number: 54\n"
          ]
        }
      ]
    },
    {
      "cell_type": "markdown",
      "source": [
        "# Lab Assessment"
      ],
      "metadata": {
        "id": "VVEXcl_tTI-v"
      }
    },
    {
      "cell_type": "markdown",
      "source": [
        "**Assignment 5:** A Search for a Puzzle Solver*\n",
        "\n",
        "Objective: Solve the 8-puzzle using A* search.\n",
        "\n",
        "Problem Statement: The 8-puzzle involves sliding tiles to achieve a goal state. Use A*to solve it.\n",
        "\n",
        "Tasks:\n",
        "\n",
        "Define heuristic functions:\n",
        "- H1: Number of misplaced tiles.\n",
        "- H2: Sum of Manhattan distances of all tiles from their goal positions.\n",
        "- Implement A* with both heuristics.\n",
        "- Compare the performance of the two heuristics in terms of the number of nodes\n",
        "explored and solution depth."
      ],
      "metadata": {
        "id": "MDv0Siz2ThHu"
      }
    },
    {
      "cell_type": "code",
      "source": [
        "import heapq\n",
        "import numpy as np\n",
        "from copy import deepcopy"
      ],
      "metadata": {
        "id": "npZuCuIDS9n8"
      },
      "execution_count": 53,
      "outputs": []
    },
    {
      "cell_type": "code",
      "source": [
        "def get_blank_pos(board):\n",
        "    return [(i, row.index(0)) for i, row in enumerate(board) if 0 in row][0]"
      ],
      "metadata": {
        "id": "Irz1ddaqWgxc"
      },
      "execution_count": 54,
      "outputs": []
    },
    {
      "cell_type": "code",
      "source": [
        "def generate_children(board):\n",
        "    children = []\n",
        "    x, y = get_blank_pos(board)\n",
        "    moves = {'Up': (-1, 0), 'Down': (1, 0), 'Left': (0, -1), 'Right': (0, 1)}\n",
        "\n",
        "    for move, (dx, dy) in moves.items():\n",
        "        nx, ny = x + dx, y + dy\n",
        "        if 0 <= nx < 3 and 0 <= ny < 3:\n",
        "            new_board = deepcopy(board)\n",
        "            new_board[x][y], new_board[nx][ny] = new_board[nx][ny], new_board[x][y]\n",
        "            children.append((new_board, move))\n",
        "\n",
        "    return children\n"
      ],
      "metadata": {
        "id": "_fANueLYWgp1"
      },
      "execution_count": 55,
      "outputs": []
    },
    {
      "cell_type": "code",
      "source": [
        "def is_goal(board, goal):\n",
        "    return board == goal"
      ],
      "metadata": {
        "id": "Ch-i1L8rWggl"
      },
      "execution_count": 56,
      "outputs": []
    },
    {
      "cell_type": "code",
      "source": [
        "def get_path(parent_map, current):\n",
        "    path = []\n",
        "    while current in parent_map:\n",
        "        current, move = parent_map[current]\n",
        "        path.append(move)\n",
        "    return path[::-1]"
      ],
      "metadata": {
        "id": "ZNoCHv6ZWgX4"
      },
      "execution_count": 57,
      "outputs": []
    },
    {
      "cell_type": "code",
      "source": [
        "def misplaced_tiles(state, goal):\n",
        "    return sum(1 for i in range(3) for j in range(3) if state[i][j] and state[i][j] != goal[i][j])"
      ],
      "metadata": {
        "id": "n6KMarZpWgPA"
      },
      "execution_count": 58,
      "outputs": []
    },
    {
      "cell_type": "code",
      "source": [
        "def misplaced_tiles(state, goal):\n",
        "    count = 0\n",
        "    for i in range(3):\n",
        "        for j in range(3):\n",
        "            if state[i][j] and state[i][j] != goal[i][j]:\n",
        "                count += 1\n",
        "    return count"
      ],
      "metadata": {
        "id": "fQsiwvTaWgFr"
      },
      "execution_count": 59,
      "outputs": []
    },
    {
      "cell_type": "code",
      "source": [
        "def a_star(start, goal, heuristic):\n",
        "    open_list, closed_set = [], set()\n",
        "    heapq.heappush(open_list, (0, start, 0))\n",
        "    parent_map = {}\n",
        "    nodes_explored = 0\n",
        "\n",
        "    while open_list:\n",
        "        _, current, depth = heapq.heappop(open_list)\n",
        "        nodes_explored += 1\n",
        "\n",
        "        if is_goal(current, goal):\n",
        "            return get_path(parent_map, tuple(map(tuple, current))), nodes_explored, depth\n",
        "\n",
        "        closed_set.add(tuple(map(tuple, current)))\n",
        "\n",
        "        for child, move in generate_children(current):\n",
        "            child_tuple = tuple(map(tuple, child))\n",
        "            if child_tuple in closed_set:\n",
        "                continue\n",
        "            parent_map[child_tuple] = (tuple(map(tuple, current)), move)\n",
        "            h = heuristic(child, goal)\n",
        "            heapq.heappush(open_list, (depth + h, child, depth + 1))\n",
        "\n",
        "    return None, nodes_explored, -1"
      ],
      "metadata": {
        "id": "8ODiFnd8XbaV"
      },
      "execution_count": 60,
      "outputs": []
    },
    {
      "cell_type": "code",
      "source": [
        "start_state = [\n",
        "    [1, 2, 3],\n",
        "    [4, 0, 5],\n",
        "    [6, 7, 8]\n",
        "    ]\n",
        "goal_state = [\n",
        "    [1, 2, 3],\n",
        "    [4, 5, 6],\n",
        "    [7, 8, 0]\n",
        "    ]\n",
        "\n",
        "path1, explored1, depth1 = a_star(start_state, goal_state, misplaced_tiles)\n",
        "path2, explored2, depth2 = a_star(start_state, goal_state, manhattan_distance)\n",
        "\n",
        "print(\"Using Misplaced Tiles:\")\n",
        "print(\"Solution Path:\", path1)\n",
        "print(\"Nodes Explored:\", explored1)\n",
        "print(\"Solution Depth:\", depth1)\n",
        "\n",
        "print(\"\\nUsing Manhattan Distance:\")\n",
        "print(\"Solution Path:\", path2)\n",
        "print(\"Nodes Explored:\", explored2)\n",
        "print(\"Solution Depth:\", depth2)"
      ],
      "metadata": {
        "colab": {
          "base_uri": "https://localhost:8080/"
        },
        "id": "fRo2UqmMWf5c",
        "outputId": "b7bc3642-bf2f-462c-f1db-f80f8b8605eb"
      },
      "execution_count": 61,
      "outputs": [
        {
          "output_type": "stream",
          "name": "stdout",
          "text": [
            "Using Misplaced Tiles:\n",
            "Solution Path: ['Right', 'Down', 'Left', 'Left', 'Up', 'Right', 'Down', 'Right', 'Up', 'Left', 'Left', 'Down', 'Right', 'Right']\n",
            "Nodes Explored: 248\n",
            "Solution Depth: 14\n",
            "\n",
            "Using Manhattan Distance:\n",
            "Solution Path: ['Right', 'Down', 'Left', 'Left', 'Up', 'Right', 'Down', 'Right', 'Up', 'Left', 'Left', 'Down', 'Right', 'Right']\n",
            "Nodes Explored: 88\n",
            "Solution Depth: 14\n"
          ]
        }
      ]
    },
    {
      "cell_type": "markdown",
      "source": [
        "**Assignment 6:** Path Planning for a Robot\n",
        "\n",
        "Objective: Use A* Search to find an optimal path for a robot navigating a 2Dgrid.\n",
        "\n",
        "Problem Statement: A robot must move from a start point to a goal in a grid whileavoiding obstacles.\n",
        "\n",
        "Tasks:\n",
        "\n",
        "Implement A* with:\n",
        "- The Manhattan distance heuristic applies to grids without any diagonal movement.\n",
        "- The Euclidean distance heuristic is applicable to grids that allowdiagonal\n",
        "movement.\n",
        "- Use a plotting library to visualize the found path.\n",
        "- Compare A* with BFS and Uniform Cost Search."
      ],
      "metadata": {
        "id": "m38EfMGfUBfg"
      }
    },
    {
      "cell_type": "code",
      "source": [
        "import numpy as np\n",
        "import heapq\n",
        "import matplotlib.pyplot as plt\n",
        "from collections import deque\n",
        "import math"
      ],
      "metadata": {
        "id": "kFYnF1yBUOOC"
      },
      "execution_count": 62,
      "outputs": []
    },
    {
      "cell_type": "code",
      "source": [
        "DIRECTIONS_4 = [(0, 1), (1, 0), (0, -1), (-1, 0)]\n",
        "DIRECTIONS_8 = DIRECTIONS_4 + [(1, 1), (-1, -1), (1, -1), (-1, 1)]"
      ],
      "metadata": {
        "id": "sphyLr0KEWqa"
      },
      "execution_count": 63,
      "outputs": []
    },
    {
      "cell_type": "code",
      "source": [
        "def manhattan(p1, p2):\n",
        "    return abs(p1[0] - p2[0]) + abs(p1[1] - p2[1])\n",
        "\n",
        "def euclidean(p1, p2):\n",
        "    return math.sqrt((p1[0] - p2[0])**2 + (p1[1] - p2[1])**2)"
      ],
      "metadata": {
        "id": "-0bVqk9iEZQ3"
      },
      "execution_count": 64,
      "outputs": []
    },
    {
      "cell_type": "code",
      "source": [
        "def a_star(grid, start, goal, heuristic, allow_diagonal=False):\n",
        "    rows, cols = grid.shape\n",
        "    directions = DIRECTIONS_8 if allow_diagonal else DIRECTIONS_4\n",
        "    open_list = []\n",
        "    heapq.heappush(open_list, (0, start))\n",
        "    came_from = {}\n",
        "    g_score = {start: 0}\n",
        "    f_score = {start: heuristic(start, goal)}\n",
        "\n",
        "    while open_list:\n",
        "        _, current = heapq.heappop(open_list)\n",
        "\n",
        "        if current == goal:\n",
        "            return reconstruct_path(came_from, current)\n",
        "\n",
        "        for d in directions:\n",
        "            neighbor = (current[0] + d[0], current[1] + d[1])\n",
        "            if 0 <= neighbor[0] < rows and 0 <= neighbor[1] < cols and grid[neighbor] == 0:\n",
        "                new_g = g_score[current] + (1 if not allow_diagonal else euclidean(current, neighbor))\n",
        "                if neighbor not in g_score or new_g < g_score[neighbor]:\n",
        "                    came_from[neighbor] = current\n",
        "                    g_score[neighbor] = new_g\n",
        "                    f_score[neighbor] = new_g + heuristic(neighbor, goal)\n",
        "                    heapq.heappush(open_list, (f_score[neighbor], neighbor))\n",
        "    return []"
      ],
      "metadata": {
        "id": "_5fIv3ADEbur"
      },
      "execution_count": 65,
      "outputs": []
    },
    {
      "cell_type": "code",
      "source": [
        "def bfs(grid, start, goal):\n",
        "    rows, cols = grid.shape\n",
        "    queue = deque([start])\n",
        "    came_from = {start: None}\n",
        "\n",
        "    while queue:\n",
        "        current = queue.popleft()\n",
        "        if current == goal:\n",
        "            return reconstruct_path(came_from, current)\n",
        "\n",
        "        for d in DIRECTIONS_4:\n",
        "            neighbor = (current[0] + d[0], current[1] + d[1])\n",
        "            if 0 <= neighbor[0] < rows and 0 <= neighbor[1] < cols and grid[neighbor] == 0 and neighbor not in came_from:\n",
        "                queue.append(neighbor)\n",
        "                came_from[neighbor] = current\n",
        "    return []\n"
      ],
      "metadata": {
        "id": "juoKm3LeEd_E"
      },
      "execution_count": 66,
      "outputs": []
    },
    {
      "cell_type": "code",
      "source": [
        "def ucs(grid, start, goal):\n",
        "    rows, cols = grid.shape\n",
        "    open_list = [(0, start)]\n",
        "    came_from = {}\n",
        "    cost = {start: 0}\n",
        "\n",
        "    while open_list:\n",
        "        current_cost, current = heapq.heappop(open_list)\n",
        "\n",
        "        if current == goal:\n",
        "            return reconstruct_path(came_from, current)\n",
        "\n",
        "        for d in DIRECTIONS_4:\n",
        "            neighbor = (current[0] + d[0], current[1] + d[1])\n",
        "            if 0 <= neighbor[0] < rows and 0 <= neighbor[1] < cols and grid[neighbor] == 0:\n",
        "                new_cost = current_cost + 1\n",
        "                if neighbor not in cost or new_cost < cost[neighbor]:\n",
        "                    cost[neighbor] = new_cost\n",
        "                    came_from[neighbor] = current\n",
        "                    heapq.heappush(open_list, (new_cost, neighbor))\n",
        "    return []\n"
      ],
      "metadata": {
        "id": "OHSglNTgEggC"
      },
      "execution_count": 67,
      "outputs": []
    },
    {
      "cell_type": "code",
      "source": [
        "def reconstruct_path(came_from, current):\n",
        "    path = []\n",
        "    while current in came_from:\n",
        "        path.append(current)\n",
        "        current = came_from[current]\n",
        "    return path[::-1]"
      ],
      "metadata": {
        "id": "Hx4mmPsOEjCd"
      },
      "execution_count": 68,
      "outputs": []
    },
    {
      "cell_type": "code",
      "source": [
        "def plot_grid(grid, start, goal, path, title):\n",
        "    plt.figure(figsize=(8, 8))\n",
        "    plt.imshow(grid, cmap='gray_r')\n",
        "\n",
        "    if path:\n",
        "        for (x, y) in path:\n",
        "            plt.scatter(y, x, c='blue', marker='o', s=50)\n",
        "\n",
        "    plt.scatter(start[1], start[0], c='green', marker='o', s=100, label='Start')\n",
        "    plt.scatter(goal[1], goal[0], c='red', marker='o', s=100, label='Goal')\n",
        "    plt.legend()\n",
        "    plt.title(title)\n",
        "    plt.show()"
      ],
      "metadata": {
        "id": "P5rxfK-UElwJ"
      },
      "execution_count": 69,
      "outputs": []
    },
    {
      "cell_type": "code",
      "source": [
        "grid = np.array([\n",
        "    [0, 0, 0, 0, 0],\n",
        "    [0, 1, 1, 1, 0],\n",
        "    [0, 0, 0, 1, 0],\n",
        "    [1, 1, 0, 0, 0],\n",
        "    [0, 0, 0, 1, 0]\n",
        "])\n",
        "\n",
        "start = (0, 0)\n",
        "goal = (4, 4)\n",
        "\n",
        "path_astar_manhattan = a_star(grid, start, goal, manhattan, allow_diagonal=False)\n",
        "plot_grid(grid, start, goal, path_astar_manhattan, 'A* (Manhattan Distance)')\n",
        "\n",
        "path_astar_euclidean = a_star(grid, start, goal, euclidean, allow_diagonal=True)\n",
        "plot_grid(grid, start, goal, path_astar_euclidean, 'A* (Euclidean Distance)')\n",
        "\n",
        "path_bfs = bfs(grid, start, goal)\n",
        "plot_grid(grid, start, goal, path_bfs, 'Breadth-First Search (BFS)')\n",
        "\n",
        "path_ucs = ucs(grid, start, goal)\n",
        "plot_grid(grid, start, goal, path_ucs, 'Uniform Cost Search (UCS)')\n"
      ],
      "metadata": {
        "colab": {
          "base_uri": "https://localhost:8080/",
          "height": 1000
        },
        "id": "7Q6-r_H7Eoq1",
        "outputId": "202cce4d-ee0c-415a-b914-793ce54267af"
      },
      "execution_count": 72,
      "outputs": [
        {
          "output_type": "display_data",
          "data": {
            "text/plain": [
              "<Figure size 800x800 with 1 Axes>"
            ],
            "image/png": "[encoded data removed]"
          },
          "metadata": {}
        },
        {
          "output_type": "display_data",
          "data": {
            "text/plain": [
              "<Figure size 800x800 with 1 Axes>"
            ],
            "image/png": "[encoded data removed]"
          },
          "metadata": {}
        },
        {
          "output_type": "display_data",
          "data": {
            "text/plain": [
              "<Figure size 800x800 with 1 Axes>"
            ],
            "image/png": "[encoded data removed]"
          },
          "metadata": {}
        },
        {
          "output_type": "display_data",
          "data": {
            "text/plain": [
              "<Figure size 800x800 with 1 Axes>"
            ],
            "image/png": "[encoded data removed]"
          },
          "metadata": {}
        }
      ]
    },
    {
      "cell_type": "code",
      "source": [],
      "metadata": {
        "id": "cJgCleIHEtEa"
      },
      "execution_count": null,
      "outputs": []
    }
  ]
}