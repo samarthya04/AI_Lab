{
  "nbformat": 4,
  "nbformat_minor": 0,
  "metadata": {
    "colab": {
      "provenance": [],
      "authorship_tag": "ABX9TyPwt91U6UPpXZAWzf6+MudS",
      "include_colab_link": true
    },
    "kernelspec": {
      "name": "python3",
      "display_name": "Python 3"
    },
    "language_info": {
      "name": "python"
    }
  },
  "cells": [
    {
      "cell_type": "markdown",
      "metadata": {
        "id": "view-in-github",
        "colab_type": "text"
      },
      "source": [
        "<a href=\"https://colab.research.google.com/github/samarthya04/AI_Lab/blob/main/lab5_2205498.ipynb\" target=\"_parent\"><img src=\"https://colab.research.google.com/assets/colab-badge.svg\" alt=\"Open In Colab\"/></a>"
      ]
    },
    {
      "cell_type": "markdown",
      "source": [
        "# Evaluation Questions"
      ],
      "metadata": {
        "id": "xaMJwkDwTCa7"
      }
    },
    {
      "cell_type": "markdown",
      "source": [
        "1. Swap two elements in a list"
      ],
      "metadata": {
        "id": "orWVYwIkQZOx"
      }
    },
    {
      "cell_type": "code",
      "execution_count": null,
      "metadata": {
        "colab": {
          "base_uri": "https://localhost:8080/"
        },
        "id": "1KgDMUSSOXdv",
        "outputId": "858fa49b-c615-45dc-c1bb-1c3da573c8dc"
      },
      "outputs": [
        {
          "output_type": "stream",
          "name": "stdout",
          "text": [
            "[1, 4, 3, 2, 5]\n"
          ]
        }
      ],
      "source": [
        "def swap_elements(l, pos1, pos2):\n",
        "  l[pos1], l[pos2] = l[pos2], l[pos1]\n",
        "  return l\n",
        "\n",
        "my_list = [1, 2, 3, 4, 5]\n",
        "print(swap_elements(my_list, 1, 3))"
      ]
    },
    {
      "cell_type": "markdown",
      "source": [
        "2. Find the length of a list"
      ],
      "metadata": {
        "id": "yFRKNGuNQdgs"
      }
    },
    {
      "cell_type": "code",
      "source": [
        "my_list = [1, 2, 3, 4, 5]\n",
        "length = len(my_list)\n",
        "print(f\"Length: {length}\")"
      ],
      "metadata": {
        "colab": {
          "base_uri": "https://localhost:8080/"
        },
        "id": "FtiZ9DJbQBHE",
        "outputId": "0e4cd034-44d6-49a4-8f50-7fe548fd05f1"
      },
      "execution_count": null,
      "outputs": [
        {
          "output_type": "stream",
          "name": "stdout",
          "text": [
            "Length: 5\n"
          ]
        }
      ]
    },
    {
      "cell_type": "markdown",
      "source": [
        "3. Check if element exists in a list"
      ],
      "metadata": {
        "id": "1Qh_wDuJQiUF"
      }
    },
    {
      "cell_type": "code",
      "source": [
        "my_list = [1, 2, 3, 4, 5]\n",
        "element = 3\n",
        "if element in my_list:\n",
        "  print(f\"{element} exists in the list\")"
      ],
      "metadata": {
        "colab": {
          "base_uri": "https://localhost:8080/"
        },
        "id": "p7dUeMpjQPwI",
        "outputId": "f030a264-e0c5-4521-957c-7ad809a4fece"
      },
      "execution_count": null,
      "outputs": [
        {
          "output_type": "stream",
          "name": "stdout",
          "text": [
            "3 exists in the list\n"
          ]
        }
      ]
    },
    {
      "cell_type": "markdown",
      "source": [
        "4. Clear a list"
      ],
      "metadata": {
        "id": "hZ0Px9gBQ1hi"
      }
    },
    {
      "cell_type": "code",
      "source": [
        "my_list = []"
      ],
      "metadata": {
        "id": "YYbbLhBUQtyr"
      },
      "execution_count": null,
      "outputs": []
    },
    {
      "cell_type": "code",
      "source": [
        "my_list.clear()"
      ],
      "metadata": {
        "id": "8jYapaB_Q74Z"
      },
      "execution_count": null,
      "outputs": []
    },
    {
      "cell_type": "markdown",
      "source": [
        "5. Reversing a list"
      ],
      "metadata": {
        "id": "Wr2yHd_nRE5s"
      }
    },
    {
      "cell_type": "code",
      "source": [
        "my_list = [1, 2, 3, 4, 5]\n",
        "my_list.reverse()\n",
        "print(my_list)"
      ],
      "metadata": {
        "colab": {
          "base_uri": "https://localhost:8080/"
        },
        "id": "YVMaHyC1Q_nS",
        "outputId": "f6f1b55a-0e56-432f-818d-2dd8a0b09557"
      },
      "execution_count": null,
      "outputs": [
        {
          "output_type": "stream",
          "name": "stdout",
          "text": [
            "[5, 4, 3, 2, 1]\n"
          ]
        }
      ]
    },
    {
      "cell_type": "markdown",
      "source": [
        "6. Find sum of elements in a list"
      ],
      "metadata": {
        "id": "cEln6GV2Ranm"
      }
    },
    {
      "cell_type": "code",
      "source": [
        "my_list = [1, 2, 3, 4, 5]\n",
        "sum = 0\n",
        "for element in my_list:\n",
        "  sum += element\n",
        "print(f\"Sum: {sum}\")"
      ],
      "metadata": {
        "colab": {
          "base_uri": "https://localhost:8080/"
        },
        "id": "vbZo9_9YRRYk",
        "outputId": "aa3ac757-c8bd-4d59-c977-a23c072eac7f"
      },
      "execution_count": null,
      "outputs": [
        {
          "output_type": "stream",
          "name": "stdout",
          "text": [
            "Sum: 15\n"
          ]
        }
      ]
    },
    {
      "cell_type": "markdown",
      "source": [
        "7. Multiply all number in a list"
      ],
      "metadata": {
        "id": "dzOk7NgXRo-9"
      }
    },
    {
      "cell_type": "code",
      "source": [
        "my_list = [1, 2, 3, 4, 5]\n",
        "prod = 1\n",
        "for element in my_list:\n",
        "  prod *= element\n",
        "print(f\"Product: {prod}\")"
      ],
      "metadata": {
        "colab": {
          "base_uri": "https://localhost:8080/"
        },
        "id": "zjxFvZyYRhzK",
        "outputId": "98a166ca-71f4-4642-d815-76b0dbdc8e8b"
      },
      "execution_count": null,
      "outputs": [
        {
          "output_type": "stream",
          "name": "stdout",
          "text": [
            "Product: 120\n"
          ]
        }
      ]
    },
    {
      "cell_type": "markdown",
      "source": [
        "8. Find smallest number in a list"
      ],
      "metadata": {
        "id": "vfBip6mgR7ul"
      }
    },
    {
      "cell_type": "code",
      "source": [
        "my_list = [54, 23, 87, 12, 45]\n",
        "min = my_list[0]\n",
        "for element in my_list:\n",
        "  if element < min:\n",
        "    min = element\n",
        "print(f\"Smallest number: {min}\")"
      ],
      "metadata": {
        "colab": {
          "base_uri": "https://localhost:8080/"
        },
        "id": "pHiIio2PR3bm",
        "outputId": "7de66bb0-d7ee-4eb0-f960-c4738b593735"
      },
      "execution_count": null,
      "outputs": [
        {
          "output_type": "stream",
          "name": "stdout",
          "text": [
            "Smallest number: 12\n"
          ]
        }
      ]
    },
    {
      "cell_type": "markdown",
      "source": [
        "9. Find largest number in a list"
      ],
      "metadata": {
        "id": "KYLh3V6lSJoX"
      }
    },
    {
      "cell_type": "code",
      "source": [
        "my_list = [54, 23, 87, 12, 45]\n",
        "max = my_list[0]\n",
        "for element in my_list:\n",
        "  if element > max:\n",
        "    max = element\n",
        "print(f\"Largest number: {max}\")"
      ],
      "metadata": {
        "colab": {
          "base_uri": "https://localhost:8080/"
        },
        "id": "4QPxF4wtSD8t",
        "outputId": "69cff3a0-403f-4896-9736-12686c54bb7f"
      },
      "execution_count": null,
      "outputs": [
        {
          "output_type": "stream",
          "name": "stdout",
          "text": [
            "Largest number: 87\n"
          ]
        }
      ]
    },
    {
      "cell_type": "markdown",
      "source": [
        "10. Find the second largest number in the list"
      ],
      "metadata": {
        "id": "28OPx2NqSVjq"
      }
    },
    {
      "cell_type": "code",
      "source": [
        "my_list = [54, 23, 87, 12, 45]\n",
        "max = my_list[0]\n",
        "second_max = my_list[0]\n",
        "for element in my_list:\n",
        "  if element > max:\n",
        "    second_max = max\n",
        "    max = element\n",
        "  elif element > second_max:\n",
        "    second_max = element\n",
        "print(f\"Second largest number: {second_max}\")"
      ],
      "metadata": {
        "colab": {
          "base_uri": "https://localhost:8080/"
        },
        "id": "53iRZs8FSPaX",
        "outputId": "6fd76df2-7a7c-4a30-8b3f-7321a28fac12"
      },
      "execution_count": null,
      "outputs": [
        {
          "output_type": "stream",
          "name": "stdout",
          "text": [
            "Second largest number: 54\n"
          ]
        }
      ]
    },
    {
      "cell_type": "markdown",
      "source": [
        "# Lab Assessment"
      ],
      "metadata": {
        "id": "VVEXcl_tTI-v"
      }
    },
    {
      "cell_type": "markdown",
      "source": [
        "**Assignment 5:** A Search for a Puzzle Solver*\n",
        "\n",
        "Objective: Solve the 8-puzzle using A* search.\n",
        "\n",
        "Problem Statement: The 8-puzzle involves sliding tiles to achieve a goal state. Use A*to solve it.\n",
        "\n",
        "Tasks:\n",
        "\n",
        "Define heuristic functions:\n",
        "- H1: Number of misplaced tiles.\n",
        "- H2: Sum of Manhattan distances of all tiles from their goal positions.\n",
        "- Implement A* with both heuristics.\n",
        "- Compare the performance of the two heuristics in terms of the number of nodes\n",
        "explored and solution depth."
      ],
      "metadata": {
        "id": "MDv0Siz2ThHu"
      }
    },
    {
      "cell_type": "code",
      "source": [
        "import heapq\n",
        "import numpy as np\n",
        "from copy import deepcopy"
      ],
      "metadata": {
        "id": "npZuCuIDS9n8"
      },
      "execution_count": 1,
      "outputs": []
    },
    {
      "cell_type": "code",
      "source": [
        "def get_blank_pos(board):\n",
        "    return [(i, row.index(0)) for i, row in enumerate(board) if 0 in row][0]"
      ],
      "metadata": {
        "id": "Irz1ddaqWgxc"
      },
      "execution_count": 2,
      "outputs": []
    },
    {
      "cell_type": "code",
      "source": [
        "def generate_children(board):\n",
        "    children = []\n",
        "    x, y = get_blank_pos(board)\n",
        "    moves = {'Up': (-1, 0), 'Down': (1, 0), 'Left': (0, -1), 'Right': (0, 1)}\n",
        "\n",
        "    for move, (dx, dy) in moves.items():\n",
        "        nx, ny = x + dx, y + dy\n",
        "        if 0 <= nx < 3 and 0 <= ny < 3:\n",
        "            new_board = deepcopy(board)\n",
        "            new_board[x][y], new_board[nx][ny] = new_board[nx][ny], new_board[x][y]\n",
        "            children.append((new_board, move))\n",
        "\n",
        "    return children\n"
      ],
      "metadata": {
        "id": "_fANueLYWgp1"
      },
      "execution_count": 3,
      "outputs": []
    },
    {
      "cell_type": "code",
      "source": [
        "def is_goal(board, goal):\n",
        "    return board == goal"
      ],
      "metadata": {
        "id": "Ch-i1L8rWggl"
      },
      "execution_count": 4,
      "outputs": []
    },
    {
      "cell_type": "code",
      "source": [
        "def get_path(parent_map, current):\n",
        "    path = []\n",
        "    while current in parent_map:\n",
        "        current, move = parent_map[current]\n",
        "        path.append(move)\n",
        "    return path[::-1]"
      ],
      "metadata": {
        "id": "ZNoCHv6ZWgX4"
      },
      "execution_count": 5,
      "outputs": []
    },
    {
      "cell_type": "code",
      "source": [
        "def misplaced_tiles(state, goal):\n",
        "    return sum(1 for i in range(3) for j in range(3) if state[i][j] and state[i][j] != goal[i][j])"
      ],
      "metadata": {
        "id": "n6KMarZpWgPA"
      },
      "execution_count": 6,
      "outputs": []
    },
    {
      "cell_type": "code",
      "source": [
        "def manhattan_distance(state, goal):\n",
        "    distance = 0\n",
        "    for i in range(3):\n",
        "        for j in range(3):\n",
        "            if state[i][j] != 0:\n",
        "                x, y = np.where(np.array(goal) == state[i][j])\n",
        "                distance += abs(i - x[0]) + abs(j - y[0])\n",
        "    return distance"
      ],
      "metadata": {
        "id": "fQsiwvTaWgFr"
      },
      "execution_count": 7,
      "outputs": []
    },
    {
      "cell_type": "code",
      "source": [
        "def a_star(start, goal, heuristic):\n",
        "    open_list, closed_set = [], set()\n",
        "    heapq.heappush(open_list, (0, start, 0))\n",
        "    parent_map = {}\n",
        "    nodes_explored = 0\n",
        "\n",
        "    while open_list:\n",
        "        _, current, depth = heapq.heappop(open_list)\n",
        "        nodes_explored += 1\n",
        "\n",
        "        if is_goal(current, goal):\n",
        "            return get_path(parent_map, tuple(map(tuple, current))), nodes_explored, depth\n",
        "\n",
        "        closed_set.add(tuple(map(tuple, current)))\n",
        "\n",
        "        for child, move in generate_children(current):\n",
        "            child_tuple = tuple(map(tuple, child))\n",
        "            if child_tuple in closed_set:\n",
        "                continue\n",
        "            parent_map[child_tuple] = (tuple(map(tuple, current)), move)\n",
        "            h = heuristic(child, goal)\n",
        "            heapq.heappush(open_list, (depth + h, child, depth + 1))\n",
        "\n",
        "    return None, nodes_explored, -1"
      ],
      "metadata": {
        "id": "8ODiFnd8XbaV"
      },
      "execution_count": 8,
      "outputs": []
    },
    {
      "cell_type": "code",
      "source": [
        "start_state = [\n",
        "    [1, 2, 3],\n",
        "    [4, 0, 5],\n",
        "    [6, 7, 8]\n",
        "    ]\n",
        "goal_state = [\n",
        "    [1, 2, 3],\n",
        "    [4, 5, 6],\n",
        "    [7, 8, 0]\n",
        "    ]\n",
        "\n",
        "path1, explored1, depth1 = a_star(start_state, goal_state, misplaced_tiles)\n",
        "path2, explored2, depth2 = a_star(start_state, goal_state, manhattan_distance)\n",
        "\n",
        "print(\"Using Misplaced Tiles:\")\n",
        "print(\"Solution Path:\", path1)\n",
        "print(\"Nodes Explored:\", explored1)\n",
        "print(\"Solution Depth:\", depth1)\n",
        "\n",
        "print(\"\\nUsing Manhattan Distance:\")\n",
        "print(\"Solution Path:\", path2)\n",
        "print(\"Nodes Explored:\", explored2)\n",
        "print(\"Solution Depth:\", depth2)"
      ],
      "metadata": {
        "id": "fRo2UqmMWf5c",
        "outputId": "4de32ede-b686-4ae4-8589-18cbad6ca5b9",
        "colab": {
          "base_uri": "https://localhost:8080/"
        }
      },
      "execution_count": 9,
      "outputs": [
        {
          "output_type": "stream",
          "name": "stdout",
          "text": [
            "Using Misplaced Tiles:\n",
            "Solution Path: ['Right', 'Down', 'Left', 'Left', 'Up', 'Right', 'Down', 'Right', 'Up', 'Left', 'Left', 'Down', 'Right', 'Right']\n",
            "Nodes Explored: 248\n",
            "Solution Depth: 14\n",
            "\n",
            "Using Manhattan Distance:\n",
            "Solution Path: ['Right', 'Down', 'Left', 'Left', 'Up', 'Right', 'Down', 'Right', 'Up', 'Left', 'Left', 'Down', 'Right', 'Right']\n",
            "Nodes Explored: 88\n",
            "Solution Depth: 14\n"
          ]
        }
      ]
    },
    {
      "cell_type": "markdown",
      "source": [
        "**Assignment 6:** Path Planning for a Robot\n",
        "\n",
        "Objective: Use A* Search to find an optimal path for a robot navigating a 2Dgrid.\n",
        "\n",
        "Problem Statement: A robot must move from a start point to a goal in a grid whileavoiding obstacles.\n",
        "\n",
        "Tasks:\n",
        "\n",
        "Implement A* with:\n",
        "- The Manhattan distance heuristic applies to grids without any diagonal movement.\n",
        "- The Euclidean distance heuristic is applicable to grids that allowdiagonal\n",
        "movement.\n",
        "- Use a plotting library to visualize the found path.\n",
        "- Compare A* with BFS and Uniform Cost Search."
      ],
      "metadata": {
        "id": "m38EfMGfUBfg"
      }
    },
    {
      "cell_type": "code",
      "source": [],
      "metadata": {
        "id": "kFYnF1yBUOOC"
      },
      "execution_count": null,
      "outputs": []
    }
  ]
}