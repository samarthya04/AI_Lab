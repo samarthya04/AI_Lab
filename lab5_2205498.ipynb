{
  "nbformat": 4,
  "nbformat_minor": 0,
  "metadata": {
    "colab": {
      "provenance": [],
      "authorship_tag": "ABX9TyOoZQ9k4xVu87Ji+XW+nkeH",
      "include_colab_link": true
    },
    "kernelspec": {
      "name": "python3",
      "display_name": "Python 3"
    },
    "language_info": {
      "name": "python"
    }
  },
  "cells": [
    {
      "cell_type": "markdown",
      "metadata": {
        "id": "view-in-github",
        "colab_type": "text"
      },
      "source": [
        "<a href=\"https://colab.research.google.com/github/samarthya04/AI_Lab/blob/main/lab5_2205498.ipynb\" target=\"_parent\"><img src=\"https://colab.research.google.com/assets/colab-badge.svg\" alt=\"Open In Colab\"/></a>"
      ]
    },
    {
      "cell_type": "markdown",
      "source": [
        "# Evaluation Questions"
      ],
      "metadata": {
        "id": "xaMJwkDwTCa7"
      }
    },
    {
      "cell_type": "markdown",
      "source": [
        "1. Swap two elements in a list"
      ],
      "metadata": {
        "id": "orWVYwIkQZOx"
      }
    },
    {
      "cell_type": "code",
      "execution_count": 1,
      "metadata": {
        "colab": {
          "base_uri": "https://localhost:8080/"
        },
        "id": "1KgDMUSSOXdv",
        "outputId": "858fa49b-c615-45dc-c1bb-1c3da573c8dc"
      },
      "outputs": [
        {
          "output_type": "stream",
          "name": "stdout",
          "text": [
            "[1, 4, 3, 2, 5]\n"
          ]
        }
      ],
      "source": [
        "def swap_elements(l, pos1, pos2):\n",
        "  l[pos1], l[pos2] = l[pos2], l[pos1]\n",
        "  return l\n",
        "\n",
        "my_list = [1, 2, 3, 4, 5]\n",
        "print(swap_elements(my_list, 1, 3))"
      ]
    },
    {
      "cell_type": "markdown",
      "source": [
        "2. Find the length of a list"
      ],
      "metadata": {
        "id": "yFRKNGuNQdgs"
      }
    },
    {
      "cell_type": "code",
      "source": [
        "my_list = [1, 2, 3, 4, 5]\n",
        "length = len(my_list)\n",
        "print(f\"Length: {length}\")"
      ],
      "metadata": {
        "colab": {
          "base_uri": "https://localhost:8080/"
        },
        "id": "FtiZ9DJbQBHE",
        "outputId": "0e4cd034-44d6-49a4-8f50-7fe548fd05f1"
      },
      "execution_count": 2,
      "outputs": [
        {
          "output_type": "stream",
          "name": "stdout",
          "text": [
            "Length: 5\n"
          ]
        }
      ]
    },
    {
      "cell_type": "markdown",
      "source": [
        "3. Check if element exists in a list"
      ],
      "metadata": {
        "id": "1Qh_wDuJQiUF"
      }
    },
    {
      "cell_type": "code",
      "source": [
        "my_list = [1, 2, 3, 4, 5]\n",
        "element = 3\n",
        "if element in my_list:\n",
        "  print(f\"{element} exists in the list\")"
      ],
      "metadata": {
        "colab": {
          "base_uri": "https://localhost:8080/"
        },
        "id": "p7dUeMpjQPwI",
        "outputId": "f030a264-e0c5-4521-957c-7ad809a4fece"
      },
      "execution_count": 3,
      "outputs": [
        {
          "output_type": "stream",
          "name": "stdout",
          "text": [
            "3 exists in the list\n"
          ]
        }
      ]
    },
    {
      "cell_type": "markdown",
      "source": [
        "4. Clear a list"
      ],
      "metadata": {
        "id": "hZ0Px9gBQ1hi"
      }
    },
    {
      "cell_type": "code",
      "source": [
        "my_list = []"
      ],
      "metadata": {
        "id": "YYbbLhBUQtyr"
      },
      "execution_count": 4,
      "outputs": []
    },
    {
      "cell_type": "code",
      "source": [
        "my_list.clear()"
      ],
      "metadata": {
        "id": "8jYapaB_Q74Z"
      },
      "execution_count": 5,
      "outputs": []
    },
    {
      "cell_type": "markdown",
      "source": [
        "5. Reversing a list"
      ],
      "metadata": {
        "id": "Wr2yHd_nRE5s"
      }
    },
    {
      "cell_type": "code",
      "source": [
        "my_list = [1, 2, 3, 4, 5]\n",
        "my_list.reverse()\n",
        "print(my_list)"
      ],
      "metadata": {
        "colab": {
          "base_uri": "https://localhost:8080/"
        },
        "id": "YVMaHyC1Q_nS",
        "outputId": "f6f1b55a-0e56-432f-818d-2dd8a0b09557"
      },
      "execution_count": 6,
      "outputs": [
        {
          "output_type": "stream",
          "name": "stdout",
          "text": [
            "[5, 4, 3, 2, 1]\n"
          ]
        }
      ]
    },
    {
      "cell_type": "markdown",
      "source": [
        "6. Find sum of elements in a list"
      ],
      "metadata": {
        "id": "cEln6GV2Ranm"
      }
    },
    {
      "cell_type": "code",
      "source": [
        "my_list = [1, 2, 3, 4, 5]\n",
        "sum = 0\n",
        "for element in my_list:\n",
        "  sum += element\n",
        "print(f\"Sum: {sum}\")"
      ],
      "metadata": {
        "colab": {
          "base_uri": "https://localhost:8080/"
        },
        "id": "vbZo9_9YRRYk",
        "outputId": "aa3ac757-c8bd-4d59-c977-a23c072eac7f"
      },
      "execution_count": 7,
      "outputs": [
        {
          "output_type": "stream",
          "name": "stdout",
          "text": [
            "Sum: 15\n"
          ]
        }
      ]
    },
    {
      "cell_type": "markdown",
      "source": [
        "7. Multiply all number in a list"
      ],
      "metadata": {
        "id": "dzOk7NgXRo-9"
      }
    },
    {
      "cell_type": "code",
      "source": [
        "my_list = [1, 2, 3, 4, 5]\n",
        "prod = 1\n",
        "for element in my_list:\n",
        "  prod *= element\n",
        "print(f\"Product: {prod}\")"
      ],
      "metadata": {
        "colab": {
          "base_uri": "https://localhost:8080/"
        },
        "id": "zjxFvZyYRhzK",
        "outputId": "98a166ca-71f4-4642-d815-76b0dbdc8e8b"
      },
      "execution_count": 8,
      "outputs": [
        {
          "output_type": "stream",
          "name": "stdout",
          "text": [
            "Product: 120\n"
          ]
        }
      ]
    },
    {
      "cell_type": "markdown",
      "source": [
        "8. Find smallest number in a list"
      ],
      "metadata": {
        "id": "vfBip6mgR7ul"
      }
    },
    {
      "cell_type": "code",
      "source": [
        "my_list = [54, 23, 87, 12, 45]\n",
        "min = my_list[0]\n",
        "for element in my_list:\n",
        "  if element < min:\n",
        "    min = element\n",
        "print(f\"Smallest number: {min}\")"
      ],
      "metadata": {
        "colab": {
          "base_uri": "https://localhost:8080/"
        },
        "id": "pHiIio2PR3bm",
        "outputId": "7de66bb0-d7ee-4eb0-f960-c4738b593735"
      },
      "execution_count": 9,
      "outputs": [
        {
          "output_type": "stream",
          "name": "stdout",
          "text": [
            "Smallest number: 12\n"
          ]
        }
      ]
    },
    {
      "cell_type": "markdown",
      "source": [
        "9. Find largest number in a list"
      ],
      "metadata": {
        "id": "KYLh3V6lSJoX"
      }
    },
    {
      "cell_type": "code",
      "source": [
        "my_list = [54, 23, 87, 12, 45]\n",
        "max = my_list[0]\n",
        "for element in my_list:\n",
        "  if element > max:\n",
        "    max = element\n",
        "print(f\"Largest number: {max}\")"
      ],
      "metadata": {
        "colab": {
          "base_uri": "https://localhost:8080/"
        },
        "id": "4QPxF4wtSD8t",
        "outputId": "69cff3a0-403f-4896-9736-12686c54bb7f"
      },
      "execution_count": 10,
      "outputs": [
        {
          "output_type": "stream",
          "name": "stdout",
          "text": [
            "Largest number: 87\n"
          ]
        }
      ]
    },
    {
      "cell_type": "markdown",
      "source": [
        "10. Find the second largest number in the list"
      ],
      "metadata": {
        "id": "28OPx2NqSVjq"
      }
    },
    {
      "cell_type": "code",
      "source": [
        "my_list = [54, 23, 87, 12, 45]\n",
        "max = my_list[0]\n",
        "second_max = my_list[0]\n",
        "for element in my_list:\n",
        "  if element > max:\n",
        "    second_max = max\n",
        "    max = element\n",
        "  elif element > second_max:\n",
        "    second_max = element\n",
        "print(f\"Second largest number: {second_max}\")"
      ],
      "metadata": {
        "colab": {
          "base_uri": "https://localhost:8080/"
        },
        "id": "53iRZs8FSPaX",
        "outputId": "6fd76df2-7a7c-4a30-8b3f-7321a28fac12"
      },
      "execution_count": 11,
      "outputs": [
        {
          "output_type": "stream",
          "name": "stdout",
          "text": [
            "Second largest number: 54\n"
          ]
        }
      ]
    },
    {
      "cell_type": "markdown",
      "source": [
        "# Lab Assessment"
      ],
      "metadata": {
        "id": "VVEXcl_tTI-v"
      }
    },
    {
      "cell_type": "code",
      "source": [],
      "metadata": {
        "id": "npZuCuIDS9n8"
      },
      "execution_count": 11,
      "outputs": []
    }
  ]
}