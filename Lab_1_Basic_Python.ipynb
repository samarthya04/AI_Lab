{
  "nbformat": 4,
  "nbformat_minor": 0,
  "metadata": {
    "colab": {
      "provenance": [],
      "authorship_tag": "ABX9TyNxbRVQBgUCYbcq2dJ4sdJE",
      "include_colab_link": true
    },
    "kernelspec": {
      "name": "python3",
      "display_name": "Python 3"
    },
    "language_info": {
      "name": "python"
    }
  },
  "cells": [
    {
      "cell_type": "markdown",
      "metadata": {
        "id": "view-in-github",
        "colab_type": "text"
      },
      "source": [
        "<a href=\"https://colab.research.google.com/github/samarthya04/AI_Lab/blob/main/Lab_1_Basic_Python.ipynb\" target=\"_parent\"><img src=\"https://colab.research.google.com/assets/colab-badge.svg\" alt=\"Open In Colab\"/></a>"
      ]
    },
    {
      "cell_type": "code",
      "execution_count": 1,
      "metadata": {
        "colab": {
          "base_uri": "https://localhost:8080/"
        },
        "id": "E1opow-s7y7R",
        "outputId": "13ac23b7-8eba-467b-8b71-35af2d5dd15b"
      },
      "outputs": [
        {
          "output_type": "stream",
          "name": "stdout",
          "text": [
            "Hello World\n"
          ]
        }
      ],
      "source": [
        "print(\"Hello World\")"
      ]
    },
    {
      "cell_type": "code",
      "source": [
        "name = \"Samarthya\"\n",
        "age = 20\n",
        "\n",
        "print(\"Name: \", name)\n",
        "print(\"Age: \", age)"
      ],
      "metadata": {
        "id": "gqhMGllI74mC",
        "colab": {
          "base_uri": "https://localhost:8080/"
        },
        "outputId": "81718487-f1a1-4fb1-8bd1-2debec7eb028"
      },
      "execution_count": 2,
      "outputs": [
        {
          "output_type": "stream",
          "name": "stdout",
          "text": [
            "Name:  Samarthya\n",
            "Age:  20\n"
          ]
        }
      ]
    },
    {
      "cell_type": "code",
      "source": [
        "x = \"Samarthya\" #string\n",
        "x = 50 #integer\n",
        "x = 60.5 #float\n",
        "x = 3j #complex\n",
        "x = [1, 2, 3] #list\n",
        "x = (1, 2, 3) #tuple\n",
        "x = {\"name\": \"Samarthya\", \"age\": 20} #dict\n",
        "x = {1, 2, 3, 4} #set\n",
        "x = True #bool\n",
        "x = b\"Geeks\" #binary"
      ],
      "metadata": {
        "id": "7jfGRRVf8fZh"
      },
      "execution_count": 3,
      "outputs": []
    },
    {
      "cell_type": "code",
      "source": [
        "x = 0b1010 #binary\n",
        "print(x)\n",
        "x = 10\n",
        "print( bin (x))"
      ],
      "metadata": {
        "colab": {
          "base_uri": "https://localhost:8080/"
        },
        "id": "zMFL_Rys9k_B",
        "outputId": "45149b38-d059-4b65-c7e3-b8ed526d8bf9"
      },
      "execution_count": 4,
      "outputs": [
        {
          "output_type": "stream",
          "name": "stdout",
          "text": [
            "10\n",
            "0b1010\n"
          ]
        }
      ]
    },
    {
      "cell_type": "code",
      "source": [
        "val = input(\"Enter your value: \")\n",
        "print(\"Value entered:\", val)"
      ],
      "metadata": {
        "colab": {
          "base_uri": "https://localhost:8080/"
        },
        "id": "mnraK4hj9mP4",
        "outputId": "b4377578-28c9-4dee-83ad-9720ccb7a9ab"
      },
      "execution_count": 5,
      "outputs": [
        {
          "output_type": "stream",
          "name": "stdout",
          "text": [
            "Enter your value: 74\n",
            "Value entered: 74\n"
          ]
        }
      ]
    },
    {
      "cell_type": "code",
      "source": [
        "a = 9\n",
        "b = 4\n",
        "\n",
        "add = a + b\n",
        "print(f\"Addition {a} and {b}: \", add)\n",
        "\n",
        "sub = a - b\n",
        "print(f\"Subtraction {b} from {a}: \", sub)\n",
        "\n",
        "mul = a * b\n",
        "print(f\"Multiplication {a} and {b}: \", mul)\n",
        "\n",
        "div = a / b\n",
        "print(f\"Quotient of Division {a} by {b}: \", div)\n",
        "\n",
        "mod = a % b\n",
        "print(f\"Remainder of Division {a} by {b}: \", mod)\n",
        "\n",
        "exp = a ** b\n",
        "print(f\"{a} raised to the power {b}: \", exp)\n",
        "\n",
        "floor = a // b\n",
        "print(f\"Quotient(Floor value) of Division {a} by {b}: \", floor)"
      ],
      "metadata": {
        "colab": {
          "base_uri": "https://localhost:8080/"
        },
        "id": "y38jQE8o-SMg",
        "outputId": "6f024bd8-89a1-4d48-c929-f41a7e172678"
      },
      "execution_count": 6,
      "outputs": [
        {
          "output_type": "stream",
          "name": "stdout",
          "text": [
            "Addition 9 and 4:  13\n",
            "Subtraction 4 from 9:  5\n",
            "Multiplication 9 and 4:  36\n",
            "Quotient of Division 9 by 4:  2.25\n",
            "Remainder of Division 9 by 4:  1\n",
            "9 raised to the power 4:  6561\n",
            "Quotient(Floor value) of Division 9 by 4:  2\n"
          ]
        }
      ]
    },
    {
      "cell_type": "code",
      "source": [
        "a = True\n",
        "b = False\n",
        "\n",
        "print(a and b)\n",
        "print(a or b)\n",
        "print(not a)"
      ],
      "metadata": {
        "colab": {
          "base_uri": "https://localhost:8080/"
        },
        "id": "l36jnLF2-pwj",
        "outputId": "5de975ac-143b-4a31-db71-5b1e7e0d21e5"
      },
      "execution_count": 7,
      "outputs": [
        {
          "output_type": "stream",
          "name": "stdout",
          "text": [
            "False\n",
            "True\n",
            "False\n"
          ]
        }
      ]
    },
    {
      "cell_type": "code",
      "source": [
        "a = 10\n",
        "b = 4\n",
        "\n",
        "print(a & b)\n",
        "print(a | b)\n",
        "print(~a)\n",
        "print(a ^ b)\n",
        "print(a >> 2)\n",
        "print(a << 2)"
      ],
      "metadata": {
        "colab": {
          "base_uri": "https://localhost:8080/"
        },
        "id": "mTV9pHcB_-lU",
        "outputId": "6506f4d6-fa7d-49e0-ea54-386b13118aef"
      },
      "execution_count": 8,
      "outputs": [
        {
          "output_type": "stream",
          "name": "stdout",
          "text": [
            "0\n",
            "14\n",
            "-11\n",
            "14\n",
            "2\n",
            "40\n"
          ]
        }
      ]
    },
    {
      "cell_type": "code",
      "source": [
        "i = 20\n",
        "\n",
        "if(i < 15):\n",
        "  print(\"i is smaller than 15\")\n",
        "\n",
        "else:\n",
        "  print(\"i is greater than 15\")"
      ],
      "metadata": {
        "colab": {
          "base_uri": "https://localhost:8080/"
        },
        "id": "NA0f_YIlBAPv",
        "outputId": "a8fcf048-dc9f-432c-bf96-3a00ab1e4495"
      },
      "execution_count": 9,
      "outputs": [
        {
          "output_type": "stream",
          "name": "stdout",
          "text": [
            "i is greater than 15\n"
          ]
        }
      ]
    },
    {
      "cell_type": "code",
      "source": [
        "i = 20\n",
        "if (i == 10):\n",
        "  print(\"i is 10\")\n",
        "elif (i == 15):\n",
        "  print(\"i is 15\")\n",
        "elif (i == 20):\n",
        "  print(\"i is 20\")\n",
        "else:\n",
        "  print(\"i is not present\")"
      ],
      "metadata": {
        "colab": {
          "base_uri": "https://localhost:8080/"
        },
        "id": "SZLSHY7VBPRY",
        "outputId": "45d3746b-2ed8-4abc-fecd-c5cb567ce454"
      },
      "execution_count": 10,
      "outputs": [
        {
          "output_type": "stream",
          "name": "stdout",
          "text": [
            "i is 20\n"
          ]
        }
      ]
    },
    {
      "cell_type": "code",
      "source": [
        "for i in range(0, 10, 3):\n",
        "  # equivalent to for(int i = 0; i < 10; i+=3)\n",
        "  print(i)"
      ],
      "metadata": {
        "colab": {
          "base_uri": "https://localhost:8080/"
        },
        "id": "CbeGHzfeC1dn",
        "outputId": "96b9ca2a-0728-4b46-e5a3-004f7887493d"
      },
      "execution_count": 11,
      "outputs": [
        {
          "output_type": "stream",
          "name": "stdout",
          "text": [
            "0\n",
            "3\n",
            "6\n",
            "9\n"
          ]
        }
      ]
    },
    {
      "cell_type": "code",
      "source": [
        "count = 0\n",
        "while (count < 3):\n",
        "  count = count + 1\n",
        "  print(f\"Hello{count}\")"
      ],
      "metadata": {
        "colab": {
          "base_uri": "https://localhost:8080/"
        },
        "id": "pQs-rCy1C8BL",
        "outputId": "8808de0c-77a3-4afb-8768-ec6d0a9b64a0"
      },
      "execution_count": 12,
      "outputs": [
        {
          "output_type": "stream",
          "name": "stdout",
          "text": [
            "Hello1\n",
            "Hello2\n",
            "Hello3\n"
          ]
        }
      ]
    },
    {
      "cell_type": "code",
      "source": [
        "#Odd-Even\n",
        "def even_odd(x):\n",
        "  if (x % 2 == 0):\n",
        "    print(\"even\")\n",
        "  else:\n",
        "    print(\"odd\")\n",
        "\n",
        "even_odd(2)\n",
        "even_odd(3)"
      ],
      "metadata": {
        "colab": {
          "base_uri": "https://localhost:8080/"
        },
        "id": "6e07BslwDQU2",
        "outputId": "c32ccd6c-6de7-40e4-a3f5-a1cf4c8b8c23"
      },
      "execution_count": 13,
      "outputs": [
        {
          "output_type": "stream",
          "name": "stdout",
          "text": [
            "even\n",
            "odd\n"
          ]
        }
      ]
    },
    {
      "cell_type": "code",
      "source": [
        "# Maximum of two numbers\n",
        "def maxNum(a, b):\n",
        "  if (a >= b):\n",
        "    return a\n",
        "  else:\n",
        "    return b\n",
        "\n",
        "print(f\"Greater number is = {maxNum(10, 20)}\")"
      ],
      "metadata": {
        "colab": {
          "base_uri": "https://localhost:8080/"
        },
        "id": "1sr6namFDrvs",
        "outputId": "d759f2ed-f329-411b-b646-db2c7b6df624"
      },
      "execution_count": 14,
      "outputs": [
        {
          "output_type": "stream",
          "name": "stdout",
          "text": [
            "Greater number is = 20\n"
          ]
        }
      ]
    },
    {
      "cell_type": "code",
      "source": [
        "#Fibonacci Nth number\n",
        "def fibonacci(n):\n",
        "  if n==1:\n",
        "    return 0\n",
        "  elif n==2:\n",
        "    return 1\n",
        "  else:\n",
        "    return fibonacci(n-1)+fibonacci(n-2)\n",
        "\n",
        "print(fibonacci(10))"
      ],
      "metadata": {
        "colab": {
          "base_uri": "https://localhost:8080/"
        },
        "id": "9ws5u3DpEd4-",
        "outputId": "e272ae9f-e6a9-4972-af9b-d502b0f82596"
      },
      "execution_count": 15,
      "outputs": [
        {
          "output_type": "stream",
          "name": "stdout",
          "text": [
            "34\n"
          ]
        }
      ]
    },
    {
      "cell_type": "code",
      "source": [
        "# Sum of Array\n",
        "\n",
        "def sumArray(arr):\n",
        "  sum = 0\n",
        "  for i in arr:\n",
        "    sum = sum + i\n",
        "  return sum\n",
        "\n",
        "arr = [1, 2, 3, 4, 5]\n",
        "print(f\"Sum of Array = {sumArray(arr)}\")"
      ],
      "metadata": {
        "colab": {
          "base_uri": "https://localhost:8080/"
        },
        "id": "HyrkRhwmFWLr",
        "outputId": "fbb60dfd-1c72-4b4a-e132-8b81fabb5a2e"
      },
      "execution_count": 16,
      "outputs": [
        {
          "output_type": "stream",
          "name": "stdout",
          "text": [
            "Sum of Array = 15\n"
          ]
        }
      ]
    },
    {
      "cell_type": "code",
      "source": [
        "# Prime Number\n",
        "\n",
        "def prime_in_range(x, y):\n",
        "  for i in range(x, y + 1):\n",
        "    if i > 1:\n",
        "      for j in range(2, i):\n",
        "        if (i % j == 0):\n",
        "          break\n",
        "      else:\n",
        "        print(i)\n",
        "\n",
        "prime_in_range(0, 100)"
      ],
      "metadata": {
        "colab": {
          "base_uri": "https://localhost:8080/"
        },
        "id": "Gr7ieUJ2Hkd3",
        "outputId": "a3fcc8e4-a665-41be-b0c2-ebd96f7858af"
      },
      "execution_count": 17,
      "outputs": [
        {
          "output_type": "stream",
          "name": "stdout",
          "text": [
            "2\n",
            "3\n",
            "5\n",
            "7\n",
            "11\n",
            "13\n",
            "17\n",
            "19\n",
            "23\n",
            "29\n",
            "31\n",
            "37\n",
            "41\n",
            "43\n",
            "47\n",
            "53\n",
            "59\n",
            "61\n",
            "67\n",
            "71\n",
            "73\n",
            "79\n",
            "83\n",
            "89\n",
            "97\n"
          ]
        }
      ]
    },
    {
      "cell_type": "code",
      "source": [
        "# Palindrome\n",
        "\n",
        "\n",
        "def reverse(s):\n",
        "  rev = \"\"\n",
        "  for i in range(len(s)-1, -1, -1):\n",
        "    rev = rev + s[i]\n",
        "  return rev\n",
        "\n",
        "def isPalindrome(s):\n",
        "  rev = reverse(s)\n",
        "  if (s == rev):\n",
        "    return True\n",
        "  return False\n",
        "\n",
        "isPalindrome(\"madam\")"
      ],
      "metadata": {
        "colab": {
          "base_uri": "https://localhost:8080/"
        },
        "id": "wN-SVsj9IlUP",
        "outputId": "8360e9b8-63de-4ba1-83fc-e5228ce957ce"
      },
      "execution_count": 18,
      "outputs": [
        {
          "output_type": "execute_result",
          "data": {
            "text/plain": [
              "True"
            ]
          },
          "metadata": {},
          "execution_count": 18
        }
      ]
    },
    {
      "cell_type": "code",
      "source": [
        "# Bubble Sort\n",
        "\n",
        "def bubble_sort(arr):\n",
        "  for i in range(len(arr)):\n",
        "    for j in range(0, len(arr) - i - 1, 1):\n",
        "      if (arr[j] > arr[j + 1]):\n",
        "        temp = arr[j]\n",
        "        arr[j] = arr[j + 1]\n",
        "        arr[j + 1] = temp\n",
        ""
      ],
      "metadata": {
        "id": "-IfaL6wTJbjy"
      },
      "execution_count": 18,
      "outputs": []
    }
  ]
}