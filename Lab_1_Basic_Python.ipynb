{
  "nbformat": 4,
  "nbformat_minor": 0,
  "metadata": {
    "colab": {
      "provenance": [],
      "authorship_tag": "ABX9TyN2UU9TR5aTsquWOvK1BydR",
      "include_colab_link": true
    },
    "kernelspec": {
      "name": "python3",
      "display_name": "Python 3"
    },
    "language_info": {
      "name": "python"
    }
  },
  "cells": [
    {
      "cell_type": "markdown",
      "metadata": {
        "id": "view-in-github",
        "colab_type": "text"
      },
      "source": [
        "<a href=\"https://colab.research.google.com/github/samarthya04/AI_Lab/blob/main/Lab_1_Basic_Python.ipynb\" target=\"_parent\"><img src=\"https://colab.research.google.com/assets/colab-badge.svg\" alt=\"Open In Colab\"/></a>"
      ]
    },
    {
      "cell_type": "code",
      "execution_count": 1,
      "metadata": {
        "colab": {
          "base_uri": "https://localhost:8080/"
        },
        "id": "E1opow-s7y7R",
        "outputId": "52556317-d499-4a96-8666-084adff125f6"
      },
      "outputs": [
        {
          "output_type": "stream",
          "name": "stdout",
          "text": [
            "Hello World\n"
          ]
        }
      ],
      "source": [
        "print(\"Hello World\")"
      ]
    },
    {
      "cell_type": "code",
      "source": [
        "name = \"Samarthya\"\n",
        "age = 20\n",
        "\n",
        "print(\"Name: \", name)\n",
        "print(\"Age: \", age)"
      ],
      "metadata": {
        "id": "gqhMGllI74mC",
        "colab": {
          "base_uri": "https://localhost:8080/"
        },
        "outputId": "e3323333-0de5-4029-ae0a-9b5ca5fe6499"
      },
      "execution_count": 2,
      "outputs": [
        {
          "output_type": "stream",
          "name": "stdout",
          "text": [
            "Name:  Samarthya\n",
            "Age:  20\n"
          ]
        }
      ]
    },
    {
      "cell_type": "code",
      "source": [
        "x = \"Samarthya\" #string\n",
        "x = 50 #integer\n",
        "x = 60.5 #float\n",
        "x = 3j #complex\n",
        "x = [1, 2, 3] #list\n",
        "x = (1, 2, 3) #tuple\n",
        "x = {\"name\": \"Samarthya\", \"age\": 20} #dict\n",
        "x = {1, 2, 3, 4} #set\n",
        "x = True #bool\n",
        "x = b\"Geeks\" #binary"
      ],
      "metadata": {
        "id": "7jfGRRVf8fZh"
      },
      "execution_count": 3,
      "outputs": []
    },
    {
      "cell_type": "code",
      "source": [
        "x = 0b1010 #binary\n",
        "print(x)\n",
        "x = 10\n",
        "print( bin (x))"
      ],
      "metadata": {
        "id": "zMFL_Rys9k_B",
        "outputId": "6e71c111-e17b-4e7b-c870-e16da93e0f09",
        "colab": {
          "base_uri": "https://localhost:8080/"
        }
      },
      "execution_count": 4,
      "outputs": [
        {
          "output_type": "stream",
          "name": "stdout",
          "text": [
            "10\n",
            "0b1010\n"
          ]
        }
      ]
    },
    {
      "cell_type": "code",
      "source": [
        "val = input(\"Enter your value: \")\n",
        "print(\"Value entered:\", val)"
      ],
      "metadata": {
        "id": "mnraK4hj9mP4",
        "outputId": "2f0544d3-d4f8-440a-ad47-158f209129e2",
        "colab": {
          "base_uri": "https://localhost:8080/"
        }
      },
      "execution_count": 5,
      "outputs": [
        {
          "output_type": "stream",
          "name": "stdout",
          "text": [
            "Enter your value: 74\n",
            "Value entered: 74\n"
          ]
        }
      ]
    },
    {
      "cell_type": "code",
      "source": [
        "a = 9\n",
        "b = 4\n",
        "\n",
        "add = a + b\n",
        "print(f\"Addition {a} and {b}: \", add)\n",
        "\n",
        "sub = a - b\n",
        "print(f\"Subtraction {b} from {a}: \", sub)\n",
        "\n",
        "mul = a * b\n",
        "print(f\"Multiplication {a} and {b}: \", mul)\n",
        "\n",
        "div = a / b\n",
        "print(f\"Quotient of Division {a} by {b}: \", div)\n",
        "\n",
        "mod = a % b\n",
        "print(f\"Remainder of Division {a} by {b}: \", mod)\n",
        "\n",
        "exp = a ** b\n",
        "print(f\"{a} raised to the power {b}: \", exp)\n",
        "\n",
        "floor = a // b\n",
        "print(f\"Quotient(Floor value) of Division {a} by {b}: \", floor)"
      ],
      "metadata": {
        "id": "y38jQE8o-SMg",
        "outputId": "056aa7c5-4083-4ff1-b73a-33ebecf1b397",
        "colab": {
          "base_uri": "https://localhost:8080/"
        }
      },
      "execution_count": 6,
      "outputs": [
        {
          "output_type": "stream",
          "name": "stdout",
          "text": [
            "Addition 9 and 4:  13\n",
            "Subtraction 4 from 9:  5\n",
            "Multiplication 9 and 4:  36\n",
            "Quotient of Division 9 by 4:  2.25\n",
            "Remainder of Division 9 by 4:  1\n",
            "9 raised to the power 4:  6561\n",
            "Quotient(Floor value) of Division 9 by 4:  2\n"
          ]
        }
      ]
    },
    {
      "cell_type": "code",
      "source": [
        "a = True\n",
        "b = False\n",
        "\n",
        "print(a and b)\n",
        "print(a or b)\n",
        "print(not a)"
      ],
      "metadata": {
        "id": "l36jnLF2-pwj",
        "outputId": "f6571a35-45d0-493c-99d7-854b2a2f8c33",
        "colab": {
          "base_uri": "https://localhost:8080/"
        }
      },
      "execution_count": 7,
      "outputs": [
        {
          "output_type": "stream",
          "name": "stdout",
          "text": [
            "False\n",
            "True\n",
            "False\n"
          ]
        }
      ]
    },
    {
      "cell_type": "code",
      "source": [
        "a = 10\n",
        "b = 4\n",
        "\n",
        "print(a & b)\n",
        "print(a | b)\n",
        "print(~a)\n",
        "print(a ^ b)\n",
        "print(a >> 2)\n",
        "print(a << 2)"
      ],
      "metadata": {
        "id": "mTV9pHcB_-lU",
        "outputId": "56673fb0-eb56-415c-cf96-60d127da8620",
        "colab": {
          "base_uri": "https://localhost:8080/"
        }
      },
      "execution_count": 8,
      "outputs": [
        {
          "output_type": "stream",
          "name": "stdout",
          "text": [
            "0\n",
            "14\n",
            "-11\n",
            "14\n",
            "2\n",
            "40\n"
          ]
        }
      ]
    },
    {
      "cell_type": "code",
      "source": [
        "i = 20\n",
        "\n",
        "if(i < 15):\n",
        "  print(\"i is smaller than 15\")\n",
        "\n",
        "else:\n",
        "  print(\"i is greater than 15\")"
      ],
      "metadata": {
        "id": "NA0f_YIlBAPv",
        "outputId": "0f72329b-7019-42d4-c5b6-e65e06bc6a0b",
        "colab": {
          "base_uri": "https://localhost:8080/"
        }
      },
      "execution_count": 9,
      "outputs": [
        {
          "output_type": "stream",
          "name": "stdout",
          "text": [
            "i is greater than 15\n"
          ]
        }
      ]
    },
    {
      "cell_type": "code",
      "source": [
        "i = 20\n",
        "if (i == 10):\n",
        "  print(\"i is 10\")\n",
        "elif (i == 15):\n",
        "  print(\"i is 15\")\n",
        "elif (i == 20):\n",
        "  print(\"i is 20\")\n",
        "else:\n",
        "  print(\"i is not present\")"
      ],
      "metadata": {
        "id": "SZLSHY7VBPRY",
        "outputId": "a883b78b-c303-4853-d9fc-4ee6c8d516f4",
        "colab": {
          "base_uri": "https://localhost:8080/"
        }
      },
      "execution_count": 10,
      "outputs": [
        {
          "output_type": "stream",
          "name": "stdout",
          "text": [
            "i is 20\n"
          ]
        }
      ]
    },
    {
      "cell_type": "code",
      "source": [
        "for i in range(0, 10, 3):\n",
        "  # equivalent to for(int i = 0; i < 10; i+=3)\n",
        "  print(i)"
      ],
      "metadata": {
        "id": "CbeGHzfeC1dn",
        "outputId": "069d25b6-692f-4164-cf4c-22c2e0057df0",
        "colab": {
          "base_uri": "https://localhost:8080/"
        }
      },
      "execution_count": 12,
      "outputs": [
        {
          "output_type": "stream",
          "name": "stdout",
          "text": [
            "0\n",
            "3\n",
            "6\n",
            "9\n"
          ]
        }
      ]
    },
    {
      "cell_type": "code",
      "source": [
        "count = 0\n",
        "while (count < 3):\n",
        "  count = count + 1\n",
        "  print(f\"Hello{count}\")"
      ],
      "metadata": {
        "id": "pQs-rCy1C8BL",
        "outputId": "60063d2d-f30c-4053-f372-bde190ab2d81",
        "colab": {
          "base_uri": "https://localhost:8080/"
        }
      },
      "execution_count": 13,
      "outputs": [
        {
          "output_type": "stream",
          "name": "stdout",
          "text": [
            "Hello1\n",
            "Hello2\n",
            "Hello3\n"
          ]
        }
      ]
    },
    {
      "cell_type": "code",
      "source": [
        "def even_odd(x):\n",
        "  if (x % 2 == 0):\n",
        "    print(\"even\")\n",
        "  else:\n",
        "    print(\"odd\")\n",
        "\n",
        "even_odd(2)\n",
        "even_odd(3)"
      ],
      "metadata": {
        "id": "6e07BslwDQU2",
        "outputId": "e9bcd86e-ef58-4efc-a1fd-0a5453906b5d",
        "colab": {
          "base_uri": "https://localhost:8080/"
        }
      },
      "execution_count": 14,
      "outputs": [
        {
          "output_type": "stream",
          "name": "stdout",
          "text": [
            "even\n",
            "odd\n"
          ]
        }
      ]
    },
    {
      "cell_type": "code",
      "source": [],
      "metadata": {
        "id": "1sr6namFDrvs"
      },
      "execution_count": null,
      "outputs": []
    }
  ]
}